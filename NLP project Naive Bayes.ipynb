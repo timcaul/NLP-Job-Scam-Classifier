{
  "nbformat": 4,
  "nbformat_minor": 0,
  "metadata": {
    "colab": {
      "name": "NaiveBayesModel.ipynb",
      "provenance": [],
      "collapsed_sections": []
    },
    "kernelspec": {
      "name": "python3",
      "display_name": "Python 3"
    },
    "language_info": {
      "name": "python"
    },
    "accelerator": "GPU",
    "gpuClass": "standard"
  },
  "cells": [
    {
      "cell_type": "code",
      "execution_count": 1,
      "metadata": {
        "id": "pFez7bhGxSw_"
      },
      "outputs": [],
      "source": [
        "import numpy as np # linear algebra\n",
        "import pandas as pd # data processing, CSV file I/O (e.g. pd.read_csv)\n",
        "from matplotlib import pyplot as plt\n",
        "from nltk.tokenize import word_tokenize # For tokenizing the words\n",
        "from nltk.corpus import stopwords # To Remove the stop words\n",
        "from collections import Counter # To build the category\n",
        "\n",
        "from nltk.stem import PorterStemmer\n",
        "import matplotlib.pyplot as plt\n",
        "import nltk\n",
        "from sklearn.feature_extraction.text import CountVectorizer\n",
        "from sklearn.feature_extraction.text import TfidfVectorizer\n",
        "\n",
        "from nltk.corpus import stopwords\n",
        "from wordcloud import WordCloud,STOPWORDS\n",
        "from nltk.stem import WordNetLemmatizer\n",
        "from nltk.tokenize import word_tokenize,sent_tokenize\n",
        "\n",
        "\n",
        "from nltk.stem import LancasterStemmer,WordNetLemmatizer\n",
        "from sklearn.linear_model import LogisticRegression,SGDClassifier\n",
        "from sklearn.metrics import classification_report,confusion_matrix,accuracy_score\n",
        "from sklearn.model_selection import train_test_split\n",
        "from string import punctuation\n",
        "from nltk import pos_tag\n",
        "from nltk.corpus import wordnet\n",
        "import os \n",
        "import matplotlib.pyplot as plt \n",
        "from nltk.tokenize import RegexpTokenizer\n",
        "\n",
        "import numpy as np # linear algebra\n",
        "import pandas as pd # data processing, CSV file I/O (e.g. pd.read_csv)\n",
        "from matplotlib import pyplot as plt\n",
        "from nltk.tokenize import word_tokenize # For tokenizing the words\n",
        "from nltk.corpus import stopwords # To Remove the stop words\n",
        "from collections import Counter # To build the category\n",
        "\n",
        "from nltk.stem import PorterStemmer\n",
        "from nltk.tokenize import word_tokenize # To tokenize sentences\n",
        "ps = PorterStemmer() # To perform stemming\n",
        "\n",
        "import pickle"
      ]
    },
    {
      "cell_type": "code",
      "source": [
        "# Read the data from the file\n",
        "with open('./drive/MyDrive/6120/cleaned df.pkl', 'rb') as fid:\n",
        "     cleanedDF = pickle.load(fid)"
      ],
      "metadata": {
        "id": "KJpeQ22GyCKD"
      },
      "execution_count": 2,
      "outputs": []
    },
    {
      "cell_type": "code",
      "source": [
        "cleanedDF[\"complete_posting\"] = cleanedDF[\"company_profile\"] + \" \" + cleanedDF[\"description\"] + \" \" + cleanedDF[\"requirements\"] + \" \" + cleanedDF[\"benefits\"]"
      ],
      "metadata": {
        "id": "0pyeCSz20gYf"
      },
      "execution_count": 3,
      "outputs": []
    },
    {
      "cell_type": "code",
      "source": [
        "cleanedDF"
      ],
      "metadata": {
        "colab": {
          "base_uri": "https://localhost:8080/",
          "height": 641
        },
        "id": "D97ITW6eyfmN",
        "outputId": "f5f340ea-b951-4c3b-ad09-d9f919777b33"
      },
      "execution_count": 4,
      "outputs": [
        {
          "output_type": "execute_result",
          "data": {
            "text/plain": [
              "                                         company_profile  \\\n",
              "0      food52 weve created groundbreaking awardwinnin...   \n",
              "1      90 seconds worlds cloud video production servi...   \n",
              "2      valor services provides workforce solutions me...   \n",
              "3      passion improving quality life geography heart...   \n",
              "4      spot source solutions llc global human capital...   \n",
              "...                                                  ...   \n",
              "17866  Vend is looking for some awesome new talent to...   \n",
              "17867  WebLinc is the e-commerce platform and service...   \n",
              "17868  We Provide Full Time Permanent Positions for m...   \n",
              "17869                                                NaN   \n",
              "17870  Vend is looking for some awesome new talent to...   \n",
              "\n",
              "                                             description  \\\n",
              "0      food52 fastgrowing james beard awardwinning on...   \n",
              "1      organised focused vibrant awesomedo passion cu...   \n",
              "2      client located houston actively seeking experi...   \n",
              "3      company esri environmental systems research in...   \n",
              "4      job title itemization review manager location ...   \n",
              "...                                                  ...   \n",
              "17866  Just in case this is the first time youâ€™ve v...   \n",
              "17867  The Payroll Accountant will focus primarily on...   \n",
              "17868  Experienced Project Cost Control Staff Enginee...   \n",
              "17869  Nemsia Studios is looking for an experienced v...   \n",
              "17870  Who are we?Vend is an award winning web based ...   \n",
              "\n",
              "                                            requirements  \\\n",
              "0      experience content management systems major pl...   \n",
              "1      expect key responsibility communicate client 9...   \n",
              "2      implement precommissioning commissioning proce...   \n",
              "3      education bachelors masters gis business admin...   \n",
              "4      qualifications rn license state texas diploma ...   \n",
              "...                                                  ...   \n",
              "17866  To ace this role you:Will eat comprehensive St...   \n",
              "17867  - B.A. or B.S. in Accounting-Â Desire to have ...   \n",
              "17868  At least 12 years professional experience.Abil...   \n",
              "17869  1. Must be fluent in the latest versions of Co...   \n",
              "17870  We want to hear from you if:You have an in-dep...   \n",
              "\n",
              "                                                benefits  fraudulent  \\\n",
              "0      experience content management systems major pl...           0   \n",
              "1      expect key responsibility communicate client 9...           0   \n",
              "2      implement precommissioning commissioning proce...           0   \n",
              "3      education bachelors masters gis business admin...           0   \n",
              "4      qualifications rn license state texas diploma ...           0   \n",
              "...                                                  ...         ...   \n",
              "17866  What can you expect from us?We have an open cu...           0   \n",
              "17867  Health &amp; WellnessMedical planPrescription ...           0   \n",
              "17868                                                NaN           0   \n",
              "17869  Competitive salary (compensation will be based...           0   \n",
              "17870                                                NaN           0   \n",
              "\n",
              "                                        complete_posting  \n",
              "0      food52 weve created groundbreaking awardwinnin...  \n",
              "1      90 seconds worlds cloud video production servi...  \n",
              "2      valor services provides workforce solutions me...  \n",
              "3      passion improving quality life geography heart...  \n",
              "4      spot source solutions llc global human capital...  \n",
              "...                                                  ...  \n",
              "17866  Vend is looking for some awesome new talent to...  \n",
              "17867  WebLinc is the e-commerce platform and service...  \n",
              "17868                                                NaN  \n",
              "17869                                                NaN  \n",
              "17870                                                NaN  \n",
              "\n",
              "[17871 rows x 6 columns]"
            ],
            "text/html": [
              "\n",
              "  <div id=\"df-0257df9a-420b-49f4-8b46-0d4c9d3e1a21\">\n",
              "    <div class=\"colab-df-container\">\n",
              "      <div>\n",
              "<style scoped>\n",
              "    .dataframe tbody tr th:only-of-type {\n",
              "        vertical-align: middle;\n",
              "    }\n",
              "\n",
              "    .dataframe tbody tr th {\n",
              "        vertical-align: top;\n",
              "    }\n",
              "\n",
              "    .dataframe thead th {\n",
              "        text-align: right;\n",
              "    }\n",
              "</style>\n",
              "<table border=\"1\" class=\"dataframe\">\n",
              "  <thead>\n",
              "    <tr style=\"text-align: right;\">\n",
              "      <th></th>\n",
              "      <th>company_profile</th>\n",
              "      <th>description</th>\n",
              "      <th>requirements</th>\n",
              "      <th>benefits</th>\n",
              "      <th>fraudulent</th>\n",
              "      <th>complete_posting</th>\n",
              "    </tr>\n",
              "  </thead>\n",
              "  <tbody>\n",
              "    <tr>\n",
              "      <th>0</th>\n",
              "      <td>food52 weve created groundbreaking awardwinnin...</td>\n",
              "      <td>food52 fastgrowing james beard awardwinning on...</td>\n",
              "      <td>experience content management systems major pl...</td>\n",
              "      <td>experience content management systems major pl...</td>\n",
              "      <td>0</td>\n",
              "      <td>food52 weve created groundbreaking awardwinnin...</td>\n",
              "    </tr>\n",
              "    <tr>\n",
              "      <th>1</th>\n",
              "      <td>90 seconds worlds cloud video production servi...</td>\n",
              "      <td>organised focused vibrant awesomedo passion cu...</td>\n",
              "      <td>expect key responsibility communicate client 9...</td>\n",
              "      <td>expect key responsibility communicate client 9...</td>\n",
              "      <td>0</td>\n",
              "      <td>90 seconds worlds cloud video production servi...</td>\n",
              "    </tr>\n",
              "    <tr>\n",
              "      <th>2</th>\n",
              "      <td>valor services provides workforce solutions me...</td>\n",
              "      <td>client located houston actively seeking experi...</td>\n",
              "      <td>implement precommissioning commissioning proce...</td>\n",
              "      <td>implement precommissioning commissioning proce...</td>\n",
              "      <td>0</td>\n",
              "      <td>valor services provides workforce solutions me...</td>\n",
              "    </tr>\n",
              "    <tr>\n",
              "      <th>3</th>\n",
              "      <td>passion improving quality life geography heart...</td>\n",
              "      <td>company esri environmental systems research in...</td>\n",
              "      <td>education bachelors masters gis business admin...</td>\n",
              "      <td>education bachelors masters gis business admin...</td>\n",
              "      <td>0</td>\n",
              "      <td>passion improving quality life geography heart...</td>\n",
              "    </tr>\n",
              "    <tr>\n",
              "      <th>4</th>\n",
              "      <td>spot source solutions llc global human capital...</td>\n",
              "      <td>job title itemization review manager location ...</td>\n",
              "      <td>qualifications rn license state texas diploma ...</td>\n",
              "      <td>qualifications rn license state texas diploma ...</td>\n",
              "      <td>0</td>\n",
              "      <td>spot source solutions llc global human capital...</td>\n",
              "    </tr>\n",
              "    <tr>\n",
              "      <th>...</th>\n",
              "      <td>...</td>\n",
              "      <td>...</td>\n",
              "      <td>...</td>\n",
              "      <td>...</td>\n",
              "      <td>...</td>\n",
              "      <td>...</td>\n",
              "    </tr>\n",
              "    <tr>\n",
              "      <th>17866</th>\n",
              "      <td>Vend is looking for some awesome new talent to...</td>\n",
              "      <td>Just in case this is the first time youâ€™ve v...</td>\n",
              "      <td>To ace this role you:Will eat comprehensive St...</td>\n",
              "      <td>What can you expect from us?We have an open cu...</td>\n",
              "      <td>0</td>\n",
              "      <td>Vend is looking for some awesome new talent to...</td>\n",
              "    </tr>\n",
              "    <tr>\n",
              "      <th>17867</th>\n",
              "      <td>WebLinc is the e-commerce platform and service...</td>\n",
              "      <td>The Payroll Accountant will focus primarily on...</td>\n",
              "      <td>- B.A. or B.S. in Accounting-Â Desire to have ...</td>\n",
              "      <td>Health &amp;amp; WellnessMedical planPrescription ...</td>\n",
              "      <td>0</td>\n",
              "      <td>WebLinc is the e-commerce platform and service...</td>\n",
              "    </tr>\n",
              "    <tr>\n",
              "      <th>17868</th>\n",
              "      <td>We Provide Full Time Permanent Positions for m...</td>\n",
              "      <td>Experienced Project Cost Control Staff Enginee...</td>\n",
              "      <td>At least 12 years professional experience.Abil...</td>\n",
              "      <td>NaN</td>\n",
              "      <td>0</td>\n",
              "      <td>NaN</td>\n",
              "    </tr>\n",
              "    <tr>\n",
              "      <th>17869</th>\n",
              "      <td>NaN</td>\n",
              "      <td>Nemsia Studios is looking for an experienced v...</td>\n",
              "      <td>1. Must be fluent in the latest versions of Co...</td>\n",
              "      <td>Competitive salary (compensation will be based...</td>\n",
              "      <td>0</td>\n",
              "      <td>NaN</td>\n",
              "    </tr>\n",
              "    <tr>\n",
              "      <th>17870</th>\n",
              "      <td>Vend is looking for some awesome new talent to...</td>\n",
              "      <td>Who are we?Vend is an award winning web based ...</td>\n",
              "      <td>We want to hear from you if:You have an in-dep...</td>\n",
              "      <td>NaN</td>\n",
              "      <td>0</td>\n",
              "      <td>NaN</td>\n",
              "    </tr>\n",
              "  </tbody>\n",
              "</table>\n",
              "<p>17871 rows × 6 columns</p>\n",
              "</div>\n",
              "      <button class=\"colab-df-convert\" onclick=\"convertToInteractive('df-0257df9a-420b-49f4-8b46-0d4c9d3e1a21')\"\n",
              "              title=\"Convert this dataframe to an interactive table.\"\n",
              "              style=\"display:none;\">\n",
              "        \n",
              "  <svg xmlns=\"http://www.w3.org/2000/svg\" height=\"24px\"viewBox=\"0 0 24 24\"\n",
              "       width=\"24px\">\n",
              "    <path d=\"M0 0h24v24H0V0z\" fill=\"none\"/>\n",
              "    <path d=\"M18.56 5.44l.94 2.06.94-2.06 2.06-.94-2.06-.94-.94-2.06-.94 2.06-2.06.94zm-11 1L8.5 8.5l.94-2.06 2.06-.94-2.06-.94L8.5 2.5l-.94 2.06-2.06.94zm10 10l.94 2.06.94-2.06 2.06-.94-2.06-.94-.94-2.06-.94 2.06-2.06.94z\"/><path d=\"M17.41 7.96l-1.37-1.37c-.4-.4-.92-.59-1.43-.59-.52 0-1.04.2-1.43.59L10.3 9.45l-7.72 7.72c-.78.78-.78 2.05 0 2.83L4 21.41c.39.39.9.59 1.41.59.51 0 1.02-.2 1.41-.59l7.78-7.78 2.81-2.81c.8-.78.8-2.07 0-2.86zM5.41 20L4 18.59l7.72-7.72 1.47 1.35L5.41 20z\"/>\n",
              "  </svg>\n",
              "      </button>\n",
              "      \n",
              "  <style>\n",
              "    .colab-df-container {\n",
              "      display:flex;\n",
              "      flex-wrap:wrap;\n",
              "      gap: 12px;\n",
              "    }\n",
              "\n",
              "    .colab-df-convert {\n",
              "      background-color: #E8F0FE;\n",
              "      border: none;\n",
              "      border-radius: 50%;\n",
              "      cursor: pointer;\n",
              "      display: none;\n",
              "      fill: #1967D2;\n",
              "      height: 32px;\n",
              "      padding: 0 0 0 0;\n",
              "      width: 32px;\n",
              "    }\n",
              "\n",
              "    .colab-df-convert:hover {\n",
              "      background-color: #E2EBFA;\n",
              "      box-shadow: 0px 1px 2px rgba(60, 64, 67, 0.3), 0px 1px 3px 1px rgba(60, 64, 67, 0.15);\n",
              "      fill: #174EA6;\n",
              "    }\n",
              "\n",
              "    [theme=dark] .colab-df-convert {\n",
              "      background-color: #3B4455;\n",
              "      fill: #D2E3FC;\n",
              "    }\n",
              "\n",
              "    [theme=dark] .colab-df-convert:hover {\n",
              "      background-color: #434B5C;\n",
              "      box-shadow: 0px 1px 3px 1px rgba(0, 0, 0, 0.15);\n",
              "      filter: drop-shadow(0px 1px 2px rgba(0, 0, 0, 0.3));\n",
              "      fill: #FFFFFF;\n",
              "    }\n",
              "  </style>\n",
              "\n",
              "      <script>\n",
              "        const buttonEl =\n",
              "          document.querySelector('#df-0257df9a-420b-49f4-8b46-0d4c9d3e1a21 button.colab-df-convert');\n",
              "        buttonEl.style.display =\n",
              "          google.colab.kernel.accessAllowed ? 'block' : 'none';\n",
              "\n",
              "        async function convertToInteractive(key) {\n",
              "          const element = document.querySelector('#df-0257df9a-420b-49f4-8b46-0d4c9d3e1a21');\n",
              "          const dataTable =\n",
              "            await google.colab.kernel.invokeFunction('convertToInteractive',\n",
              "                                                     [key], {});\n",
              "          if (!dataTable) return;\n",
              "\n",
              "          const docLinkHtml = 'Like what you see? Visit the ' +\n",
              "            '<a target=\"_blank\" href=https://colab.research.google.com/notebooks/data_table.ipynb>data table notebook</a>'\n",
              "            + ' to learn more about interactive tables.';\n",
              "          element.innerHTML = '';\n",
              "          dataTable['output_type'] = 'display_data';\n",
              "          await google.colab.output.renderOutput(dataTable, element);\n",
              "          const docLink = document.createElement('div');\n",
              "          docLink.innerHTML = docLinkHtml;\n",
              "          element.appendChild(docLink);\n",
              "        }\n",
              "      </script>\n",
              "    </div>\n",
              "  </div>\n",
              "  "
            ]
          },
          "metadata": {},
          "execution_count": 4
        }
      ]
    },
    {
      "cell_type": "code",
      "source": [
        "import matplotlib.pyplot as plt\n",
        "import seaborn as sns\n",
        "\n",
        "plt.figure(figsize = (10,10))\n",
        "sns.countplot(x=\"fraudulent\", data=cleanedDF)\n",
        "plt.title(\"Real Vs. Fake postings count\", fontsize = 15)\n",
        "plt.show()"
      ],
      "metadata": {
        "colab": {
          "base_uri": "https://localhost:8080/",
          "height": 623
        },
        "id": "ke9zGjvRzie0",
        "outputId": "2da7668d-3a7b-487f-9a3b-bf3c8804253f"
      },
      "execution_count": 5,
      "outputs": [
        {
          "output_type": "display_data",
          "data": {
            "text/plain": [
              "<Figure size 720x720 with 1 Axes>"
            ],
            "image/png": "[encoded data removed]"
          },
          "metadata": {
            "needs_background": "light"
          }
        }
      ]
    },
    {
      "cell_type": "code",
      "source": [
        "from sklearn.model_selection import train_test_split\n",
        "\n",
        "trainDF, testDF = train_test_split(cleanedDF, test_size=0.33, random_state = 1)\n",
        "\n"
      ],
      "metadata": {
        "id": "kek9Kvevz99i"
      },
      "execution_count": 6,
      "outputs": []
    },
    {
      "cell_type": "code",
      "source": [
        "plt.figure(figsize = (10,10))\n",
        "sns.countplot(x=\"fraudulent\", data=trainDF)\n",
        "plt.title(\"Training Real Vs. Fake postings count\", fontsize = 15)\n",
        "plt.show()"
      ],
      "metadata": {
        "colab": {
          "base_uri": "https://localhost:8080/",
          "height": 623
        },
        "id": "LSjsStI50tiq",
        "outputId": "d084094b-67ff-4152-c0eb-3c2b991adaea"
      },
      "execution_count": 7,
      "outputs": [
        {
          "output_type": "display_data",
          "data": {
            "text/plain": [
              "<Figure size 720x720 with 1 Axes>"
            ],
            "image/png": "[encoded data removed]"
          },
          "metadata": {
            "needs_background": "light"
          }
        }
      ]
    },
    {
      "cell_type": "code",
      "source": [
        "from sklearn.utils import resample\n",
        "import random\n",
        "import pandas as pd\n",
        "import math\n",
        "\n",
        "random.seed(1)\n",
        "\n",
        "df_majority = trainDF[trainDF[\"fraudulent\"]==0]\n",
        "df_minority = trainDF[trainDF[\"fraudulent\"]==1]\n",
        "\n",
        "negative_upsample = resample(df_minority, replace = True, \n",
        "                        n_samples = math.ceil(df_majority.shape[0]/2),\n",
        "                        random_state = 101)\n",
        "\n",
        "negative_undersample = resample(df_majority, replace = True, \n",
        "                        n_samples = math.ceil(df_majority.shape[0]/2),\n",
        "                        random_state = 101)\n",
        "\n",
        "df_upsampled = pd.concat([negative_undersample, negative_upsample])  # concat two data frames i,e majority class data set and upsampled minority class data set\n",
        "df_upsampled = df_upsampled.sample(frac = 1, random_state = 101)"
      ],
      "metadata": {
        "id": "G6NgfTeg0t7A"
      },
      "execution_count": 8,
      "outputs": []
    },
    {
      "cell_type": "code",
      "source": [
        "import math\n",
        "math.ceil(df_majority.shape[0]/2)"
      ],
      "metadata": {
        "colab": {
          "base_uri": "https://localhost:8080/"
        },
        "id": "SKhObpBj0yBm",
        "outputId": "24b66f1e-4983-4501-b583-e9eecad61b28"
      },
      "execution_count": 9,
      "outputs": [
        {
          "output_type": "execute_result",
          "data": {
            "text/plain": [
              "5690"
            ]
          },
          "metadata": {},
          "execution_count": 9
        }
      ]
    },
    {
      "cell_type": "code",
      "source": [
        "plt.figure(figsize = (10,10))\n",
        "sns.countplot(x=\"fraudulent\", data=df_upsampled)\n",
        "plt.title(\"Upsampled Training Real Vs. Fake postings count\", fontsize = 15)\n",
        "plt.show()"
      ],
      "metadata": {
        "colab": {
          "base_uri": "https://localhost:8080/",
          "height": 623
        },
        "id": "hz-gxO6b0yVq",
        "outputId": "72863760-6fed-4f1b-a218-744f64557e20"
      },
      "execution_count": 10,
      "outputs": [
        {
          "output_type": "display_data",
          "data": {
            "text/plain": [
              "<Figure size 720x720 with 1 Axes>"
            ],
            "image/png": "[encoded data removed]"
          },
          "metadata": {
            "needs_background": "light"
          }
        }
      ]
    },
    {
      "cell_type": "code",
      "source": [
        "train_full = df_upsampled['complete_posting']\n",
        "\n",
        "test_full = testDF['complete_posting']\n",
        "\n",
        "trainY = df_upsampled['fraudulent']\n",
        "\n",
        "testY = testDF['fraudulent']"
      ],
      "metadata": {
        "id": "6z_XM82c00fT"
      },
      "execution_count": 11,
      "outputs": []
    },
    {
      "cell_type": "markdown",
      "source": [
        "# Multinomial Naive Bayes"
      ],
      "metadata": {
        "id": "otPC0KJm04UZ"
      }
    },
    {
      "cell_type": "code",
      "source": [
        "from sklearn.feature_extraction.text import CountVectorizer\n",
        "from sklearn.feature_extraction.text import TfidfVectorizer\n",
        "\n",
        "vectorizer = TfidfVectorizer()\n",
        "\n",
        "train_count = vectorizer.fit_transform(train_full.values.astype('U')).toarray()\n",
        "val_count = vectorizer.transform(test_full.values.astype('U')).toarray()\n"
      ],
      "metadata": {
        "id": "EgqouJy701ln"
      },
      "execution_count": 12,
      "outputs": []
    },
    {
      "cell_type": "code",
      "source": [
        "train_count.shape"
      ],
      "metadata": {
        "colab": {
          "base_uri": "https://localhost:8080/"
        },
        "id": "MlhifA8d2KYL",
        "outputId": "020c90ce-c016-4bde-8159-cef3b20a82b1"
      },
      "execution_count": 13,
      "outputs": [
        {
          "output_type": "execute_result",
          "data": {
            "text/plain": [
              "(11380, 51708)"
            ]
          },
          "metadata": {},
          "execution_count": 13
        }
      ]
    },
    {
      "cell_type": "code",
      "source": [
        "\n",
        "from sklearn.naive_bayes import MultinomialNB\n",
        "clf = MultinomialNB(alpha=1)\n",
        "clf.fit(train_count, trainY)"
      ],
      "metadata": {
        "colab": {
          "base_uri": "https://localhost:8080/"
        },
        "id": "T-E4agmm1pka",
        "outputId": "9b4ecaab-3159-4cae-d880-820ee3fe7eba"
      },
      "execution_count": 14,
      "outputs": [
        {
          "output_type": "execute_result",
          "data": {
            "text/plain": [
              "MultinomialNB(alpha=1)"
            ]
          },
          "metadata": {},
          "execution_count": 14
        }
      ]
    },
    {
      "cell_type": "code",
      "source": [
        "val_preds = clf.predict(val_count)\n",
        "from sklearn.metrics import roc_auc_score, roc_curve, auc, recall_score\n",
        "acc = roc_auc_score(testY, val_preds) * 100\n",
        "recall = recall_score(testY, val_preds)\n",
        "print(\"recall score: \", recall)\n",
        "print(\"auc score: \", acc)"
      ],
      "metadata": {
        "colab": {
          "base_uri": "https://localhost:8080/"
        },
        "id": "da5WLfUT2aUt",
        "outputId": "fe6488f6-f55a-4cdf-8c01-6ca929c9dda3"
      },
      "execution_count": 18,
      "outputs": [
        {
          "output_type": "stream",
          "name": "stdout",
          "text": [
            "recall score:  0.8708487084870848\n",
            "auc score:  91.01000251161211\n"
          ]
        }
      ]
    },
    {
      "cell_type": "code",
      "source": [
        "`fpr, tpr, thresholds = roc_curve(testY, val_preds)\n",
        "auc = auc(fpr, tpr)"
      ],
      "metadata": {
        "id": "bJQC9bNSlkVb"
      },
      "execution_count": null,
      "outputs": []
    },
    {
      "cell_type": "code",
      "source": [
        "# roc curve\n",
        "plt.figure(figsize=(6, 4), dpi=100)\n",
        "plt.plot(fpr, tpr)\n",
        "plt.title('roc = {:.4f}'.format(auc))\n",
        "plt.xlabel('fpr')\n",
        "plt.ylabel('tpr')\n"
      ],
      "metadata": {
        "colab": {
          "base_uri": "https://localhost:8080/",
          "height": 422
        },
        "id": "AjUZTDqJmSYe",
        "outputId": "ccdfd2b8-fb4a-4455-cd23-3bb83e02bf3f"
      },
      "execution_count": null,
      "outputs": [
        {
          "output_type": "execute_result",
          "data": {
            "text/plain": [
              "Text(0, 0.5, 'tpr')"
            ]
          },
          "metadata": {},
          "execution_count": 26
        },
        {
          "output_type": "display_data",
          "data": {
            "text/plain": [
              "<Figure size 600x400 with 1 Axes>"
            ],
            "image/png": "[encoded data removed]"
          },
          "metadata": {
            "needs_background": "light"
          }
        }
      ]
    },
    {
      "cell_type": "markdown",
      "source": [
        "# BurnoulliNB"
      ],
      "metadata": {
        "id": "MDqySYL5jjgH"
      }
    },
    {
      "cell_type": "code",
      "source": [
        "from sklearn.naive_bayes import BernoulliNB\n",
        "clf = BernoulliNB()\n",
        "clf.fit(train_count, trainY)"
      ],
      "metadata": {
        "id": "0VwfX7NDkXL5"
      },
      "execution_count": null,
      "outputs": []
    },
    {
      "cell_type": "code",
      "source": [
        "val_preds = clf.predict(val_count)\n",
        "from sklearn.metrics import roc_auc_score\n",
        "acc = roc_auc_score(testY, val_preds) * 100\n",
        "print(acc)"
      ],
      "metadata": {
        "id": "Zj7n1LFFkadQ"
      },
      "execution_count": null,
      "outputs": []
    },
    {
      "cell_type": "code",
      "source": [
        ""
      ],
      "metadata": {
        "id": "uF8eSaiz3cGb"
      },
      "execution_count": null,
      "outputs": []
    }
  ]
}