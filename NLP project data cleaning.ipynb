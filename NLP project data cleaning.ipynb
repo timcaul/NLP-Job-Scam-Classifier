{
  "nbformat": 4,
  "nbformat_minor": 0,
  "metadata": {
    "colab": {
      "name": "NLP project data cleaning.ipynb",
      "provenance": [],
      "collapsed_sections": []
    },
    "kernelspec": {
      "name": "python3",
      "display_name": "Python 3"
    },
    "language_info": {
      "name": "python"
    }
  },
  "cells": [
    {
      "cell_type": "code",
      "execution_count": 47,
      "metadata": {
        "colab": {
          "base_uri": "https://localhost:8080/"
        },
        "id": "3GpAB44y1I8I",
        "outputId": "ec309b24-afa3-46af-ab03-d88012192a6b"
      },
      "outputs": [
        {
          "output_type": "stream",
          "name": "stderr",
          "text": [
            "[nltk_data] Downloading package punkt to /root/nltk_data...\n",
            "[nltk_data]   Package punkt is already up-to-date!\n",
            "[nltk_data] Downloading package stopwords to /root/nltk_data...\n",
            "[nltk_data]   Package stopwords is already up-to-date!\n"
          ]
        },
        {
          "output_type": "execute_result",
          "data": {
            "text/plain": [
              "True"
            ]
          },
          "metadata": {},
          "execution_count": 47
        }
      ],
      "source": [
        "import pandas as pd\n",
        "import nltk\n",
        "import re\n",
        "from nltk.corpus import stopwords\n",
        "from nltk.stem import PorterStemmer\n",
        "from nltk.tokenize import word_tokenize\n",
        "from nltk.tokenize import sent_tokenize\n",
        "nltk.download('punkt')\n",
        "nltk.download('stopwords')"
      ]
    },
    {
      "cell_type": "code",
      "source": [
        "df = pd.read_excel('fake_job_postings.xlsx')\n",
        "print(df.shape)\n",
        "print(df.head())"
      ],
      "metadata": {
        "colab": {
          "base_uri": "https://localhost:8080/"
        },
        "id": "wWYLKqW_1r2F",
        "outputId": "0d3d2966-1bbe-4955-d04b-1900286385d3"
      },
      "execution_count": 48,
      "outputs": [
        {
          "output_type": "stream",
          "name": "stdout",
          "text": [
            "(17880, 18)\n",
            "   job_id                                      title            location  \\\n",
            "0       1                           Marketing Intern    US, NY, New York   \n",
            "1       2  Customer Service - Cloud Video Production      NZ, , Auckland   \n",
            "2       3    Commissioning Machinery Assistant (CMA)       US, IA, Wever   \n",
            "3       4          Account Executive - Washington DC  US, DC, Washington   \n",
            "4       5                        Bill Review Manager  US, FL, Fort Worth   \n",
            "\n",
            "  department salary_range                                    company_profile  \\\n",
            "0  Marketing          NaN  We're Food52, and we've created a groundbreaki...   \n",
            "1    Success          NaN  90 Seconds, the worlds Cloud Video Production ...   \n",
            "2        NaN          NaN  Valor Services provides Workforce Solutions th...   \n",
            "3      Sales          NaN  Our passion for improving quality of life thro...   \n",
            "4        NaN          NaN  SpotSource Solutions LLC is a Global Human Cap...   \n",
            "\n",
            "                                         description  \\\n",
            "0  Food52, a fast-growing, James Beard Award-winn...   \n",
            "1  Organised - Focused - Vibrant - Awesome!Do you...   \n",
            "2  Our client, located in Houston, is actively se...   \n",
            "3  THE COMPANY: ESRI â€“ Environmental Systems Re...   \n",
            "4  JOB TITLE: Itemization Review ManagerLOCATION:...   \n",
            "\n",
            "                                        requirements  \\\n",
            "0  Experience with content management systems a m...   \n",
            "1  What we expect from you:Your key responsibilit...   \n",
            "2  Implement pre-commissioning and commissioning ...   \n",
            "3  EDUCATION:Â Bachelorâ€™s or Masterâ€™s in GIS,...   \n",
            "4  QUALIFICATIONS:RN license in the State of Texa...   \n",
            "\n",
            "                                            benefits  telecommuting  \\\n",
            "0                                                NaN              0   \n",
            "1  What you will get from usThrough being part of...              0   \n",
            "2                                                NaN              0   \n",
            "3  Our culture is anything but corporateâ€”we hav...              0   \n",
            "4                              Full Benefits Offered              0   \n",
            "\n",
            "   has_company_logo  has_questions employment_type required_experience  \\\n",
            "0                 1              0           Other          Internship   \n",
            "1                 1              0       Full-time      Not Applicable   \n",
            "2                 1              0             NaN                 NaN   \n",
            "3                 1              0       Full-time    Mid-Senior level   \n",
            "4                 1              1       Full-time    Mid-Senior level   \n",
            "\n",
            "  required_education                   industry              function  \\\n",
            "0                NaN                        NaN             Marketing   \n",
            "1                NaN  Marketing and Advertising      Customer Service   \n",
            "2                NaN                        NaN                   NaN   \n",
            "3  Bachelor's Degree          Computer Software                 Sales   \n",
            "4  Bachelor's Degree     Hospital & Health Care  Health Care Provider   \n",
            "\n",
            "   fraudulent  \n",
            "0           0  \n",
            "1           0  \n",
            "2           0  \n",
            "3           0  \n",
            "4           0  \n"
          ]
        }
      ]
    },
    {
      "cell_type": "code",
      "source": [
        "# Dropping column job_id since dataframe automatically assigns an index\n",
        "df.drop(['job_id'],axis=1,inplace=True)\n",
        "print(df.shape)"
      ],
      "metadata": {
        "colab": {
          "base_uri": "https://localhost:8080/"
        },
        "id": "-VV1SRlo2l6-",
        "outputId": "27989da2-5a73-459f-b1dd-049482c67c93"
      },
      "execution_count": 49,
      "outputs": [
        {
          "output_type": "stream",
          "name": "stdout",
          "text": [
            "(17880, 17)\n"
          ]
        }
      ]
    },
    {
      "cell_type": "markdown",
      "source": [
        "##Cleaning description##"
      ],
      "metadata": {
        "id": "BaKsU7Z2Mvzq"
      }
    },
    {
      "cell_type": "code",
      "source": [
        "# Get the columns of company_profile, description, requirements, benefits and fraudulent into a new dataframe for easier manipulation\n",
        "descdf = df[['company_profile','description','requirements','benefits','fraudulent']].copy()\n",
        "print(descdf.shape)"
      ],
      "metadata": {
        "colab": {
          "base_uri": "https://localhost:8080/"
        },
        "id": "wZFeV5bB3ElO",
        "outputId": "3ed8bffc-7b72-48c8-b660-eac2d0d7203b"
      },
      "execution_count": 50,
      "outputs": [
        {
          "output_type": "stream",
          "name": "stdout",
          "text": [
            "(17880, 5)\n"
          ]
        }
      ]
    },
    {
      "cell_type": "code",
      "source": [
        "print(descdf.head())"
      ],
      "metadata": {
        "colab": {
          "base_uri": "https://localhost:8080/"
        },
        "id": "AJPQlmxxPTd9",
        "outputId": "998c404d-3bb1-4915-e40a-3a70cf39ef72"
      },
      "execution_count": 51,
      "outputs": [
        {
          "output_type": "stream",
          "name": "stdout",
          "text": [
            "                                     company_profile  \\\n",
            "0  We're Food52, and we've created a groundbreaki...   \n",
            "1  90 Seconds, the worlds Cloud Video Production ...   \n",
            "2  Valor Services provides Workforce Solutions th...   \n",
            "3  Our passion for improving quality of life thro...   \n",
            "4  SpotSource Solutions LLC is a Global Human Cap...   \n",
            "\n",
            "                                         description  \\\n",
            "0  Food52, a fast-growing, James Beard Award-winn...   \n",
            "1  Organised - Focused - Vibrant - Awesome!Do you...   \n",
            "2  Our client, located in Houston, is actively se...   \n",
            "3  THE COMPANY: ESRI â€“ Environmental Systems Re...   \n",
            "4  JOB TITLE: Itemization Review ManagerLOCATION:...   \n",
            "\n",
            "                                        requirements  \\\n",
            "0  Experience with content management systems a m...   \n",
            "1  What we expect from you:Your key responsibilit...   \n",
            "2  Implement pre-commissioning and commissioning ...   \n",
            "3  EDUCATION:Â Bachelorâ€™s or Masterâ€™s in GIS,...   \n",
            "4  QUALIFICATIONS:RN license in the State of Texa...   \n",
            "\n",
            "                                            benefits  fraudulent  \n",
            "0                                                NaN           0  \n",
            "1  What you will get from usThrough being part of...           0  \n",
            "2                                                NaN           0  \n",
            "3  Our culture is anything but corporateâ€”we hav...           0  \n",
            "4                              Full Benefits Offered           0  \n"
          ]
        }
      ]
    },
    {
      "cell_type": "code",
      "source": [
        "# Cleaning the description column first, the easiest since there are no missing values.\n",
        "def cleanDescrip(desc):\n",
        "  \n",
        "  # First remove #URLasna209213..a# if present\n",
        "  reg = \"#URL_[a-z0-9]*#\"\n",
        "  res_str = re.sub(reg,\" \",desc)\n",
        "  # print(res_str)\n",
        "  \n",
        "  # Replace â€™ with '\n",
        "  res_str = re.sub(r\"â€™\",\"'\",res_str)\n",
        "  # print(res_str)\n",
        "\n",
        "  # Next, remove non-alphanumeric and non-punctuation characters\n",
        "  reg = \"[^a-zA-Z0-9\\s:.',-_!?()@;]\"\n",
        "  res_str = re.sub(reg,\"\",res_str)\n",
        "  # print(res_str)\n",
        "\n",
        "  # Now, correct the wordWord instances\n",
        "  reg = \"([a-z])([A-Z])\"\n",
        "  res_str = re.sub(reg,r\"\\1 \\2\",res_str)      #Referred to from here - https://stackoverflow.com/questions/38998547/insert-space-between-characters-regex\n",
        "  # print(res_str)\n",
        "\n",
        "  # Add a space where : is present, to ease later cleaning\n",
        "  res_str = re.sub(\":\",\" : \",res_str)\n",
        "\n",
        "  # Replace multiple spaces with a single space, and remove spaces from ends\n",
        "  reg = \"[\\s]+\"\n",
        "  res_str = re.sub(reg,\" \",res_str).strip()\n",
        "  # print(res_str)\n",
        "\n",
        "  # Now we can do the usual cleaning\n",
        "  res_str = clean_text(res_str)\n",
        "  # print(res_str)\n",
        "  return res_str"
      ],
      "metadata": {
        "id": "Sz_NC-SR4LZG"
      },
      "execution_count": 52,
      "outputs": []
    },
    {
      "cell_type": "code",
      "source": [
        "# From HW 1\n",
        "# References\n",
        "# https://towardsdatascience.com/how-to-efficiently-remove-punctuations-from-a-string-899ad4a059fb\n",
        "# https://datagy.io/python-remove-punctuation-from-string/\n",
        "# https://riptutorial.com/nltk/example/27393/porter-stemmer\n",
        "\n",
        "def clean_text(review):\n",
        "  '''\n",
        "  Input:\n",
        "      review: a string containing a review.\n",
        "  Output:\n",
        "      review_cleaned: a processed review. \n",
        "  '''\n",
        "  stop_words = set(stopwords.words('english'))\n",
        "  \n",
        "  review_cleaned = re.sub(r'[^\\w\\s]',\"\", review)         #Replace non alphanumeric and non-whitespace characters with empty character\n",
        "  review_cleaned = review_cleaned.lower()                #Lowercase the entire review\n",
        "  words = nltk.word_tokenize(review_cleaned)\n",
        "  remStop = []\n",
        "  for word in words:\n",
        "    if word not in stop_words:\n",
        "      remStop.append(word)                               #Convert review into a list, and then add the non-stopword words to a new list and make that into a string\n",
        "  \n",
        "  # ps = PorterStemmer()                    \n",
        "  # for ind in range(len(remStop)):                        #Applying porter stemmer\n",
        "  #   remStop[ind] = ps.stem(remStop[ind])\n",
        "  \n",
        "  review_cleaned = ' '.join(words for words in remStop)\n",
        "  # review_cleaned = review_cleaned.strip()\n",
        "  return review_cleaned"
      ],
      "metadata": {
        "id": "eARMDCCAKkIs"
      },
      "execution_count": 53,
      "outputs": []
    },
    {
      "cell_type": "code",
      "source": [
        "print(descdf['description'][9])"
      ],
      "metadata": {
        "colab": {
          "base_uri": "https://localhost:8080/"
        },
        "id": "MPX_p3abPZon",
        "outputId": "ccd46d73-0cc1-429a-f536-dd73cd9119a4"
      },
      "execution_count": 54,
      "outputs": [
        {
          "output_type": "stream",
          "name": "stdout",
          "text": [
            "The Customer Service Associate will be based in Phoenix, AZ. The right candidate will be an integral part of our talented team, supporting our continued growth.Responsibilities:Perform various Mail Center activities (sorting, metering, folding, inserting, delivery, pickup, etc.)Lift heavy boxes, files or paper when neededMaintain the highest levels of customer care while demonstrating a friendly and cooperative attitudeDemonstrate flexibility in satisfying customer demands in a high volume, production environmentConsistently adhere to business procedure guidelinesAdhere to all safety proceduresTake direction from supervisor or site managerMaintain all logs and reporting documentation; attention to detailParticipate in cross-training and perform other duties as assigned (Filing, outgoing shipments, etc)Operating mailing, copy or scanning equipmentShipping &amp; ReceivingHandle time-sensitive material like confidential, urgent packagesPerform other tasks as assignedScanning incoming mail to recipientsPerform file purges and pullsCreate files and ship filesProvide backfill when neededEnter information daily into spreadsheetsIdentify charges and match them to billingSort and deliver mail, small packagesÂ \n"
          ]
        }
      ]
    },
    {
      "cell_type": "code",
      "source": [
        "tempdf = pd.DataFrame(columns=['description'])"
      ],
      "metadata": {
        "id": "FN1jngiiO_02"
      },
      "execution_count": 55,
      "outputs": []
    },
    {
      "cell_type": "code",
      "source": [
        "# Applying this to entire description column in the df\n",
        "# descdf['description'] = descdf['description'].apply(cleanDescrip)\n",
        "# ls = [3030,3951,4184,7612,11893,12189,13529,16690,17513]    #These are rows which have literally #NAME? or N/A as description\n",
        "ls = []\n",
        "for i in range(descdf.shape[0]):\n",
        "  # if i in ls:\n",
        "  #   continue\n",
        "  # tempdf.append(cleanDescrip(descdf['description'][i]))\n",
        "  try:\n",
        "    descdf['description'][i] = cleanDescrip(descdf['description'][i])\n",
        "    # tempdf.append(pd.Series(cleanDescrip(descdf['description'][i])),ignore_index=True)\n",
        "  except Exception as e:\n",
        "    print(i)\n",
        "    ls.append(i)\n",
        "    print(e)\n",
        "\n"
      ],
      "metadata": {
        "id": "RY0G4kXI98VK",
        "colab": {
          "base_uri": "https://localhost:8080/"
        },
        "outputId": "9cec98bd-fd35-4221-e2b6-f15235cc042e"
      },
      "execution_count": 56,
      "outputs": [
        {
          "output_type": "stream",
          "name": "stderr",
          "text": [
            "/usr/local/lib/python3.7/dist-packages/ipykernel_launcher.py:10: SettingWithCopyWarning: \n",
            "A value is trying to be set on a copy of a slice from a DataFrame\n",
            "\n",
            "See the caveats in the documentation: https://pandas.pydata.org/pandas-docs/stable/user_guide/indexing.html#returning-a-view-versus-a-copy\n",
            "  # Remove the CWD from sys.path while we load stuff.\n"
          ]
        },
        {
          "output_type": "stream",
          "name": "stdout",
          "text": [
            "3030\n",
            "expected string or bytes-like object\n",
            "3951\n",
            "expected string or bytes-like object\n",
            "4184\n",
            "expected string or bytes-like object\n",
            "7612\n",
            "expected string or bytes-like object\n",
            "11893\n",
            "expected string or bytes-like object\n",
            "12189\n",
            "expected string or bytes-like object\n",
            "13529\n",
            "expected string or bytes-like object\n",
            "16690\n",
            "expected string or bytes-like object\n",
            "17513\n",
            "expected string or bytes-like object\n"
          ]
        }
      ]
    },
    {
      "cell_type": "code",
      "source": [
        "# We can drop those bad rows, since the number of rows is large\n",
        "for i in ls:\n",
        "  descdf = descdf.drop(descdf.index[i])\n",
        "# descdf = descdf.reset_index()"
      ],
      "metadata": {
        "id": "A7yJIjTHSBkm"
      },
      "execution_count": 57,
      "outputs": []
    },
    {
      "cell_type": "code",
      "source": [
        "print(descdf.shape)"
      ],
      "metadata": {
        "colab": {
          "base_uri": "https://localhost:8080/"
        },
        "id": "bGT5xLifSTM0",
        "outputId": "b6868d66-7646-40ef-84de-b534591657fe"
      },
      "execution_count": 58,
      "outputs": [
        {
          "output_type": "stream",
          "name": "stdout",
          "text": [
            "(17871, 5)\n"
          ]
        }
      ]
    },
    {
      "cell_type": "code",
      "source": [
        "ls = []\n",
        "print(ls)"
      ],
      "metadata": {
        "colab": {
          "base_uri": "https://localhost:8080/"
        },
        "id": "SEyzzLvhhrVL",
        "outputId": "c1f0ec76-bb81-4737-d254-a79446a7ac09"
      },
      "execution_count": 59,
      "outputs": [
        {
          "output_type": "stream",
          "name": "stdout",
          "text": [
            "[]\n"
          ]
        }
      ]
    },
    {
      "cell_type": "code",
      "source": [
        "print(descdf.head())"
      ],
      "metadata": {
        "colab": {
          "base_uri": "https://localhost:8080/"
        },
        "id": "COfV-ipzW4Dg",
        "outputId": "ff0ca2eb-43de-48ef-c1a0-b6c14c9dbaba"
      },
      "execution_count": 60,
      "outputs": [
        {
          "output_type": "stream",
          "name": "stdout",
          "text": [
            "                                     company_profile  \\\n",
            "0  We're Food52, and we've created a groundbreaki...   \n",
            "1  90 Seconds, the worlds Cloud Video Production ...   \n",
            "2  Valor Services provides Workforce Solutions th...   \n",
            "3  Our passion for improving quality of life thro...   \n",
            "4  SpotSource Solutions LLC is a Global Human Cap...   \n",
            "\n",
            "                                         description  \\\n",
            "0  food52 fastgrowing james beard awardwinning on...   \n",
            "1  organised focused vibrant awesomedo passion cu...   \n",
            "2  client located houston actively seeking experi...   \n",
            "3  company esri environmental systems research in...   \n",
            "4  job title itemization review manager location ...   \n",
            "\n",
            "                                        requirements  \\\n",
            "0  Experience with content management systems a m...   \n",
            "1  What we expect from you:Your key responsibilit...   \n",
            "2  Implement pre-commissioning and commissioning ...   \n",
            "3  EDUCATION:Â Bachelorâ€™s or Masterâ€™s in GIS,...   \n",
            "4  QUALIFICATIONS:RN license in the State of Texa...   \n",
            "\n",
            "                                            benefits  fraudulent  \n",
            "0                                                NaN           0  \n",
            "1  What you will get from usThrough being part of...           0  \n",
            "2                                                NaN           0  \n",
            "3  Our culture is anything but corporateâ€”we hav...           0  \n",
            "4                              Full Benefits Offered           0  \n"
          ]
        }
      ]
    },
    {
      "cell_type": "markdown",
      "source": [
        "##Cleaning company profile##"
      ],
      "metadata": {
        "id": "on8r_AA5MpuS"
      }
    },
    {
      "cell_type": "code",
      "source": [
        "# description is now cleaned\n",
        "# Onto company_profile\n",
        "# Cannot simply remove the rows with no company profile because they form a significant chunk of fraudulent postings\n",
        "# Have to do something about them\n",
        "tempdf = pd.DataFrame(columns=['company_profile'])\n",
        "tempdf = descdf[['company_profile']]"
      ],
      "metadata": {
        "id": "g6nURQ6Ci_08"
      },
      "execution_count": 61,
      "outputs": []
    },
    {
      "cell_type": "code",
      "source": [
        "print(tempdf.shape)"
      ],
      "metadata": {
        "colab": {
          "base_uri": "https://localhost:8080/"
        },
        "id": "pWAPXljWklRZ",
        "outputId": "ee253bbb-0c81-40bd-d8d7-ed12a98c0e3a"
      },
      "execution_count": 62,
      "outputs": [
        {
          "output_type": "stream",
          "name": "stdout",
          "text": [
            "(17871, 1)\n"
          ]
        }
      ]
    },
    {
      "cell_type": "code",
      "source": [
        "print(tempdf.head())"
      ],
      "metadata": {
        "colab": {
          "base_uri": "https://localhost:8080/"
        },
        "id": "2M0Nb6k3kmS6",
        "outputId": "c2d17c66-4b10-43d7-db6a-ac8176bb9a42"
      },
      "execution_count": 63,
      "outputs": [
        {
          "output_type": "stream",
          "name": "stdout",
          "text": [
            "                                     company_profile\n",
            "0  We're Food52, and we've created a groundbreaki...\n",
            "1  90 Seconds, the worlds Cloud Video Production ...\n",
            "2  Valor Services provides Workforce Solutions th...\n",
            "3  Our passion for improving quality of life thro...\n",
            "4  SpotSource Solutions LLC is a Global Human Cap...\n"
          ]
        }
      ]
    },
    {
      "cell_type": "code",
      "source": [
        "print(type(tempdf))"
      ],
      "metadata": {
        "colab": {
          "base_uri": "https://localhost:8080/"
        },
        "id": "LY_jDgYSksUR",
        "outputId": "102ccfcd-1a29-4977-a1c1-469876259217"
      },
      "execution_count": 64,
      "outputs": [
        {
          "output_type": "stream",
          "name": "stdout",
          "text": [
            "<class 'pandas.core.frame.DataFrame'>\n"
          ]
        }
      ]
    },
    {
      "cell_type": "code",
      "source": [
        "tempdf.isnull()"
      ],
      "metadata": {
        "colab": {
          "base_uri": "https://localhost:8080/",
          "height": 424
        },
        "id": "i_smR0BnkxZA",
        "outputId": "254a2a1d-ab8b-48da-a7b2-5c513f17c40b"
      },
      "execution_count": 65,
      "outputs": [
        {
          "output_type": "execute_result",
          "data": {
            "text/plain": [
              "       company_profile\n",
              "0                False\n",
              "1                False\n",
              "2                False\n",
              "3                False\n",
              "4                False\n",
              "...                ...\n",
              "17875            False\n",
              "17876            False\n",
              "17877            False\n",
              "17878             True\n",
              "17879            False\n",
              "\n",
              "[17871 rows x 1 columns]"
            ],
            "text/html": [
              "\n",
              "  <div id=\"df-04aa8461-e887-4b9e-9290-2d720cf8b773\">\n",
              "    <div class=\"colab-df-container\">\n",
              "      <div>\n",
              "<style scoped>\n",
              "    .dataframe tbody tr th:only-of-type {\n",
              "        vertical-align: middle;\n",
              "    }\n",
              "\n",
              "    .dataframe tbody tr th {\n",
              "        vertical-align: top;\n",
              "    }\n",
              "\n",
              "    .dataframe thead th {\n",
              "        text-align: right;\n",
              "    }\n",
              "</style>\n",
              "<table border=\"1\" class=\"dataframe\">\n",
              "  <thead>\n",
              "    <tr style=\"text-align: right;\">\n",
              "      <th></th>\n",
              "      <th>company_profile</th>\n",
              "    </tr>\n",
              "  </thead>\n",
              "  <tbody>\n",
              "    <tr>\n",
              "      <th>0</th>\n",
              "      <td>False</td>\n",
              "    </tr>\n",
              "    <tr>\n",
              "      <th>1</th>\n",
              "      <td>False</td>\n",
              "    </tr>\n",
              "    <tr>\n",
              "      <th>2</th>\n",
              "      <td>False</td>\n",
              "    </tr>\n",
              "    <tr>\n",
              "      <th>3</th>\n",
              "      <td>False</td>\n",
              "    </tr>\n",
              "    <tr>\n",
              "      <th>4</th>\n",
              "      <td>False</td>\n",
              "    </tr>\n",
              "    <tr>\n",
              "      <th>...</th>\n",
              "      <td>...</td>\n",
              "    </tr>\n",
              "    <tr>\n",
              "      <th>17875</th>\n",
              "      <td>False</td>\n",
              "    </tr>\n",
              "    <tr>\n",
              "      <th>17876</th>\n",
              "      <td>False</td>\n",
              "    </tr>\n",
              "    <tr>\n",
              "      <th>17877</th>\n",
              "      <td>False</td>\n",
              "    </tr>\n",
              "    <tr>\n",
              "      <th>17878</th>\n",
              "      <td>True</td>\n",
              "    </tr>\n",
              "    <tr>\n",
              "      <th>17879</th>\n",
              "      <td>False</td>\n",
              "    </tr>\n",
              "  </tbody>\n",
              "</table>\n",
              "<p>17871 rows × 1 columns</p>\n",
              "</div>\n",
              "      <button class=\"colab-df-convert\" onclick=\"convertToInteractive('df-04aa8461-e887-4b9e-9290-2d720cf8b773')\"\n",
              "              title=\"Convert this dataframe to an interactive table.\"\n",
              "              style=\"display:none;\">\n",
              "        \n",
              "  <svg xmlns=\"http://www.w3.org/2000/svg\" height=\"24px\"viewBox=\"0 0 24 24\"\n",
              "       width=\"24px\">\n",
              "    <path d=\"M0 0h24v24H0V0z\" fill=\"none\"/>\n",
              "    <path d=\"M18.56 5.44l.94 2.06.94-2.06 2.06-.94-2.06-.94-.94-2.06-.94 2.06-2.06.94zm-11 1L8.5 8.5l.94-2.06 2.06-.94-2.06-.94L8.5 2.5l-.94 2.06-2.06.94zm10 10l.94 2.06.94-2.06 2.06-.94-2.06-.94-.94-2.06-.94 2.06-2.06.94z\"/><path d=\"M17.41 7.96l-1.37-1.37c-.4-.4-.92-.59-1.43-.59-.52 0-1.04.2-1.43.59L10.3 9.45l-7.72 7.72c-.78.78-.78 2.05 0 2.83L4 21.41c.39.39.9.59 1.41.59.51 0 1.02-.2 1.41-.59l7.78-7.78 2.81-2.81c.8-.78.8-2.07 0-2.86zM5.41 20L4 18.59l7.72-7.72 1.47 1.35L5.41 20z\"/>\n",
              "  </svg>\n",
              "      </button>\n",
              "      \n",
              "  <style>\n",
              "    .colab-df-container {\n",
              "      display:flex;\n",
              "      flex-wrap:wrap;\n",
              "      gap: 12px;\n",
              "    }\n",
              "\n",
              "    .colab-df-convert {\n",
              "      background-color: #E8F0FE;\n",
              "      border: none;\n",
              "      border-radius: 50%;\n",
              "      cursor: pointer;\n",
              "      display: none;\n",
              "      fill: #1967D2;\n",
              "      height: 32px;\n",
              "      padding: 0 0 0 0;\n",
              "      width: 32px;\n",
              "    }\n",
              "\n",
              "    .colab-df-convert:hover {\n",
              "      background-color: #E2EBFA;\n",
              "      box-shadow: 0px 1px 2px rgba(60, 64, 67, 0.3), 0px 1px 3px 1px rgba(60, 64, 67, 0.15);\n",
              "      fill: #174EA6;\n",
              "    }\n",
              "\n",
              "    [theme=dark] .colab-df-convert {\n",
              "      background-color: #3B4455;\n",
              "      fill: #D2E3FC;\n",
              "    }\n",
              "\n",
              "    [theme=dark] .colab-df-convert:hover {\n",
              "      background-color: #434B5C;\n",
              "      box-shadow: 0px 1px 3px 1px rgba(0, 0, 0, 0.15);\n",
              "      filter: drop-shadow(0px 1px 2px rgba(0, 0, 0, 0.3));\n",
              "      fill: #FFFFFF;\n",
              "    }\n",
              "  </style>\n",
              "\n",
              "      <script>\n",
              "        const buttonEl =\n",
              "          document.querySelector('#df-04aa8461-e887-4b9e-9290-2d720cf8b773 button.colab-df-convert');\n",
              "        buttonEl.style.display =\n",
              "          google.colab.kernel.accessAllowed ? 'block' : 'none';\n",
              "\n",
              "        async function convertToInteractive(key) {\n",
              "          const element = document.querySelector('#df-04aa8461-e887-4b9e-9290-2d720cf8b773');\n",
              "          const dataTable =\n",
              "            await google.colab.kernel.invokeFunction('convertToInteractive',\n",
              "                                                     [key], {});\n",
              "          if (!dataTable) return;\n",
              "\n",
              "          const docLinkHtml = 'Like what you see? Visit the ' +\n",
              "            '<a target=\"_blank\" href=https://colab.research.google.com/notebooks/data_table.ipynb>data table notebook</a>'\n",
              "            + ' to learn more about interactive tables.';\n",
              "          element.innerHTML = '';\n",
              "          dataTable['output_type'] = 'display_data';\n",
              "          await google.colab.output.renderOutput(dataTable, element);\n",
              "          const docLink = document.createElement('div');\n",
              "          docLink.innerHTML = docLinkHtml;\n",
              "          element.appendChild(docLink);\n",
              "        }\n",
              "      </script>\n",
              "    </div>\n",
              "  </div>\n",
              "  "
            ]
          },
          "metadata": {},
          "execution_count": 65
        }
      ]
    },
    {
      "cell_type": "code",
      "source": [
        "type(tempdf.isnull())"
      ],
      "metadata": {
        "colab": {
          "base_uri": "https://localhost:8080/"
        },
        "id": "EkcKz0be4Daz",
        "outputId": "4a61ccae-9ef8-44f0-8f03-cbe8055a8937"
      },
      "execution_count": 66,
      "outputs": [
        {
          "output_type": "execute_result",
          "data": {
            "text/plain": [
              "pandas.core.frame.DataFrame"
            ]
          },
          "metadata": {},
          "execution_count": 66
        }
      ]
    },
    {
      "cell_type": "code",
      "source": [
        "count = 0\n",
        "for i in tempdf.isnull()['company_profile']:\n",
        "  if i:\n",
        "    count += 1\n",
        "print(count)"
      ],
      "metadata": {
        "colab": {
          "base_uri": "https://localhost:8080/"
        },
        "id": "iIXcnyXr4MZW",
        "outputId": "2ecd5169-bed7-462d-a704-cfc02f4b8855"
      },
      "execution_count": 67,
      "outputs": [
        {
          "output_type": "stream",
          "name": "stdout",
          "text": [
            "3306\n"
          ]
        }
      ]
    },
    {
      "cell_type": "code",
      "source": [
        "temp2 = tempdf.copy()"
      ],
      "metadata": {
        "id": "aPPx5xTp7XOw"
      },
      "execution_count": 68,
      "outputs": []
    },
    {
      "cell_type": "code",
      "source": [
        "temp2.fillna(\"NA\",inplace=True)"
      ],
      "metadata": {
        "id": "apTRvcWf7ZsN"
      },
      "execution_count": 69,
      "outputs": []
    },
    {
      "cell_type": "code",
      "source": [
        "print(temp2.shape)\n",
        "count = 0\n",
        "for i in temp2.isnull()['company_profile']:\n",
        "  if i:\n",
        "    count += 1\n",
        "print(count)"
      ],
      "metadata": {
        "colab": {
          "base_uri": "https://localhost:8080/"
        },
        "id": "w400oVEE7gcK",
        "outputId": "9f1ef205-9363-455f-d12b-b136e047435b"
      },
      "execution_count": 70,
      "outputs": [
        {
          "output_type": "stream",
          "name": "stdout",
          "text": [
            "(17871, 1)\n",
            "0\n"
          ]
        }
      ]
    },
    {
      "cell_type": "code",
      "source": [
        "def cleanCols(comp):\n",
        "  if comp == \"NA\":\n",
        "    return comp\n",
        "  res_str = cleanDescrip(comp)\n",
        "  return res_str"
      ],
      "metadata": {
        "id": "Nl74ilh_5D9H"
      },
      "execution_count": 71,
      "outputs": []
    },
    {
      "cell_type": "code",
      "source": [
        "for i in range(len(temp2['company_profile'])):\n",
        "  try:\n",
        "    descdf['company_profile'][i] = cleanCols(temp2['company_profile'][i])\n",
        "  except Exception as e:\n",
        "    print(i)\n",
        "    print(e)"
      ],
      "metadata": {
        "colab": {
          "base_uri": "https://localhost:8080/"
        },
        "id": "mRE_CHGzKK_W",
        "outputId": "7bfdcd58-1eb1-4aba-9f8a-55647f190ab4"
      },
      "execution_count": 72,
      "outputs": [
        {
          "output_type": "stream",
          "name": "stderr",
          "text": [
            "/usr/local/lib/python3.7/dist-packages/ipykernel_launcher.py:3: SettingWithCopyWarning: \n",
            "A value is trying to be set on a copy of a slice from a DataFrame\n",
            "\n",
            "See the caveats in the documentation: https://pandas.pydata.org/pandas-docs/stable/user_guide/indexing.html#returning-a-view-versus-a-copy\n",
            "  This is separate from the ipykernel package so we can avoid doing imports until\n"
          ]
        },
        {
          "output_type": "stream",
          "name": "stdout",
          "text": [
            "3030\n",
            "3030\n",
            "3952\n",
            "3952\n",
            "4186\n",
            "4186\n",
            "7615\n",
            "7615\n",
            "11897\n",
            "11897\n",
            "12194\n",
            "12194\n",
            "13535\n",
            "13535\n",
            "16697\n",
            "16697\n",
            "17521\n",
            "17521\n"
          ]
        }
      ]
    },
    {
      "cell_type": "code",
      "source": [
        "print(descdf.head())"
      ],
      "metadata": {
        "colab": {
          "base_uri": "https://localhost:8080/"
        },
        "id": "KrdPHMiKKWdj",
        "outputId": "b4e91644-89ff-4fc4-90de-8bf2f128178c"
      },
      "execution_count": 73,
      "outputs": [
        {
          "output_type": "stream",
          "name": "stdout",
          "text": [
            "                                     company_profile  \\\n",
            "0  food52 weve created groundbreaking awardwinnin...   \n",
            "1  90 seconds worlds cloud video production servi...   \n",
            "2  valor services provides workforce solutions me...   \n",
            "3  passion improving quality life geography heart...   \n",
            "4  spot source solutions llc global human capital...   \n",
            "\n",
            "                                         description  \\\n",
            "0  food52 fastgrowing james beard awardwinning on...   \n",
            "1  organised focused vibrant awesomedo passion cu...   \n",
            "2  client located houston actively seeking experi...   \n",
            "3  company esri environmental systems research in...   \n",
            "4  job title itemization review manager location ...   \n",
            "\n",
            "                                        requirements  \\\n",
            "0  Experience with content management systems a m...   \n",
            "1  What we expect from you:Your key responsibilit...   \n",
            "2  Implement pre-commissioning and commissioning ...   \n",
            "3  EDUCATION:Â Bachelorâ€™s or Masterâ€™s in GIS,...   \n",
            "4  QUALIFICATIONS:RN license in the State of Texa...   \n",
            "\n",
            "                                            benefits  fraudulent  \n",
            "0                                                NaN           0  \n",
            "1  What you will get from usThrough being part of...           0  \n",
            "2                                                NaN           0  \n",
            "3  Our culture is anything but corporateâ€”we hav...           0  \n",
            "4                              Full Benefits Offered           0  \n"
          ]
        }
      ]
    },
    {
      "cell_type": "markdown",
      "source": [
        "##Benefits and requirements column cleaning##"
      ],
      "metadata": {
        "id": "bzj7RydnMkPz"
      }
    },
    {
      "cell_type": "code",
      "source": [
        "# Do same stuff as company profile to requirements and benefits\n",
        "tempdf = pd.DataFrame(columns=['requirements','benefits'])\n",
        "tempdf = descdf[['requirements','benefits']].copy()"
      ],
      "metadata": {
        "id": "TIhz1ahSLL-4"
      },
      "execution_count": 74,
      "outputs": []
    },
    {
      "cell_type": "code",
      "source": [
        "print(tempdf.shape)"
      ],
      "metadata": {
        "colab": {
          "base_uri": "https://localhost:8080/"
        },
        "id": "qNZNlLyXL2U3",
        "outputId": "28c7c4b1-e263-4103-e426-a8b992da8cf9"
      },
      "execution_count": 75,
      "outputs": [
        {
          "output_type": "stream",
          "name": "stdout",
          "text": [
            "(17871, 2)\n"
          ]
        }
      ]
    },
    {
      "cell_type": "code",
      "source": [
        "tempdf.isnull()"
      ],
      "metadata": {
        "colab": {
          "base_uri": "https://localhost:8080/",
          "height": 424
        },
        "id": "hXyDP4WtL9ky",
        "outputId": "cac5956c-2048-40c4-a110-6d6aec2eea44"
      },
      "execution_count": 76,
      "outputs": [
        {
          "output_type": "execute_result",
          "data": {
            "text/plain": [
              "       requirements  benefits\n",
              "0             False      True\n",
              "1             False     False\n",
              "2             False      True\n",
              "3             False     False\n",
              "4             False     False\n",
              "...             ...       ...\n",
              "17875         False     False\n",
              "17876         False     False\n",
              "17877         False      True\n",
              "17878         False     False\n",
              "17879         False      True\n",
              "\n",
              "[17871 rows x 2 columns]"
            ],
            "text/html": [
              "\n",
              "  <div id=\"df-ece258bb-7c97-47e6-8451-557516843806\">\n",
              "    <div class=\"colab-df-container\">\n",
              "      <div>\n",
              "<style scoped>\n",
              "    .dataframe tbody tr th:only-of-type {\n",
              "        vertical-align: middle;\n",
              "    }\n",
              "\n",
              "    .dataframe tbody tr th {\n",
              "        vertical-align: top;\n",
              "    }\n",
              "\n",
              "    .dataframe thead th {\n",
              "        text-align: right;\n",
              "    }\n",
              "</style>\n",
              "<table border=\"1\" class=\"dataframe\">\n",
              "  <thead>\n",
              "    <tr style=\"text-align: right;\">\n",
              "      <th></th>\n",
              "      <th>requirements</th>\n",
              "      <th>benefits</th>\n",
              "    </tr>\n",
              "  </thead>\n",
              "  <tbody>\n",
              "    <tr>\n",
              "      <th>0</th>\n",
              "      <td>False</td>\n",
              "      <td>True</td>\n",
              "    </tr>\n",
              "    <tr>\n",
              "      <th>1</th>\n",
              "      <td>False</td>\n",
              "      <td>False</td>\n",
              "    </tr>\n",
              "    <tr>\n",
              "      <th>2</th>\n",
              "      <td>False</td>\n",
              "      <td>True</td>\n",
              "    </tr>\n",
              "    <tr>\n",
              "      <th>3</th>\n",
              "      <td>False</td>\n",
              "      <td>False</td>\n",
              "    </tr>\n",
              "    <tr>\n",
              "      <th>4</th>\n",
              "      <td>False</td>\n",
              "      <td>False</td>\n",
              "    </tr>\n",
              "    <tr>\n",
              "      <th>...</th>\n",
              "      <td>...</td>\n",
              "      <td>...</td>\n",
              "    </tr>\n",
              "    <tr>\n",
              "      <th>17875</th>\n",
              "      <td>False</td>\n",
              "      <td>False</td>\n",
              "    </tr>\n",
              "    <tr>\n",
              "      <th>17876</th>\n",
              "      <td>False</td>\n",
              "      <td>False</td>\n",
              "    </tr>\n",
              "    <tr>\n",
              "      <th>17877</th>\n",
              "      <td>False</td>\n",
              "      <td>True</td>\n",
              "    </tr>\n",
              "    <tr>\n",
              "      <th>17878</th>\n",
              "      <td>False</td>\n",
              "      <td>False</td>\n",
              "    </tr>\n",
              "    <tr>\n",
              "      <th>17879</th>\n",
              "      <td>False</td>\n",
              "      <td>True</td>\n",
              "    </tr>\n",
              "  </tbody>\n",
              "</table>\n",
              "<p>17871 rows × 2 columns</p>\n",
              "</div>\n",
              "      <button class=\"colab-df-convert\" onclick=\"convertToInteractive('df-ece258bb-7c97-47e6-8451-557516843806')\"\n",
              "              title=\"Convert this dataframe to an interactive table.\"\n",
              "              style=\"display:none;\">\n",
              "        \n",
              "  <svg xmlns=\"http://www.w3.org/2000/svg\" height=\"24px\"viewBox=\"0 0 24 24\"\n",
              "       width=\"24px\">\n",
              "    <path d=\"M0 0h24v24H0V0z\" fill=\"none\"/>\n",
              "    <path d=\"M18.56 5.44l.94 2.06.94-2.06 2.06-.94-2.06-.94-.94-2.06-.94 2.06-2.06.94zm-11 1L8.5 8.5l.94-2.06 2.06-.94-2.06-.94L8.5 2.5l-.94 2.06-2.06.94zm10 10l.94 2.06.94-2.06 2.06-.94-2.06-.94-.94-2.06-.94 2.06-2.06.94z\"/><path d=\"M17.41 7.96l-1.37-1.37c-.4-.4-.92-.59-1.43-.59-.52 0-1.04.2-1.43.59L10.3 9.45l-7.72 7.72c-.78.78-.78 2.05 0 2.83L4 21.41c.39.39.9.59 1.41.59.51 0 1.02-.2 1.41-.59l7.78-7.78 2.81-2.81c.8-.78.8-2.07 0-2.86zM5.41 20L4 18.59l7.72-7.72 1.47 1.35L5.41 20z\"/>\n",
              "  </svg>\n",
              "      </button>\n",
              "      \n",
              "  <style>\n",
              "    .colab-df-container {\n",
              "      display:flex;\n",
              "      flex-wrap:wrap;\n",
              "      gap: 12px;\n",
              "    }\n",
              "\n",
              "    .colab-df-convert {\n",
              "      background-color: #E8F0FE;\n",
              "      border: none;\n",
              "      border-radius: 50%;\n",
              "      cursor: pointer;\n",
              "      display: none;\n",
              "      fill: #1967D2;\n",
              "      height: 32px;\n",
              "      padding: 0 0 0 0;\n",
              "      width: 32px;\n",
              "    }\n",
              "\n",
              "    .colab-df-convert:hover {\n",
              "      background-color: #E2EBFA;\n",
              "      box-shadow: 0px 1px 2px rgba(60, 64, 67, 0.3), 0px 1px 3px 1px rgba(60, 64, 67, 0.15);\n",
              "      fill: #174EA6;\n",
              "    }\n",
              "\n",
              "    [theme=dark] .colab-df-convert {\n",
              "      background-color: #3B4455;\n",
              "      fill: #D2E3FC;\n",
              "    }\n",
              "\n",
              "    [theme=dark] .colab-df-convert:hover {\n",
              "      background-color: #434B5C;\n",
              "      box-shadow: 0px 1px 3px 1px rgba(0, 0, 0, 0.15);\n",
              "      filter: drop-shadow(0px 1px 2px rgba(0, 0, 0, 0.3));\n",
              "      fill: #FFFFFF;\n",
              "    }\n",
              "  </style>\n",
              "\n",
              "      <script>\n",
              "        const buttonEl =\n",
              "          document.querySelector('#df-ece258bb-7c97-47e6-8451-557516843806 button.colab-df-convert');\n",
              "        buttonEl.style.display =\n",
              "          google.colab.kernel.accessAllowed ? 'block' : 'none';\n",
              "\n",
              "        async function convertToInteractive(key) {\n",
              "          const element = document.querySelector('#df-ece258bb-7c97-47e6-8451-557516843806');\n",
              "          const dataTable =\n",
              "            await google.colab.kernel.invokeFunction('convertToInteractive',\n",
              "                                                     [key], {});\n",
              "          if (!dataTable) return;\n",
              "\n",
              "          const docLinkHtml = 'Like what you see? Visit the ' +\n",
              "            '<a target=\"_blank\" href=https://colab.research.google.com/notebooks/data_table.ipynb>data table notebook</a>'\n",
              "            + ' to learn more about interactive tables.';\n",
              "          element.innerHTML = '';\n",
              "          dataTable['output_type'] = 'display_data';\n",
              "          await google.colab.output.renderOutput(dataTable, element);\n",
              "          const docLink = document.createElement('div');\n",
              "          docLink.innerHTML = docLinkHtml;\n",
              "          element.appendChild(docLink);\n",
              "        }\n",
              "      </script>\n",
              "    </div>\n",
              "  </div>\n",
              "  "
            ]
          },
          "metadata": {},
          "execution_count": 76
        }
      ]
    },
    {
      "cell_type": "code",
      "source": [
        "reqcount = 0\n",
        "bencount = 0\n",
        "for i in tempdf.isnull()['requirements']:\n",
        "  if i:\n",
        "    reqcount += 1\n",
        "for i in tempdf.isnull()['benefits']:\n",
        "  if i:\n",
        "    bencount += 1\n",
        "print(\"Reqcount - \", str(reqcount))\n",
        "print(\"Bencount - \", str(bencount))"
      ],
      "metadata": {
        "colab": {
          "base_uri": "https://localhost:8080/"
        },
        "id": "Za8h1LxcML0s",
        "outputId": "bcd942d8-927e-4b55-8df0-11a3c4d99e1a"
      },
      "execution_count": 77,
      "outputs": [
        {
          "output_type": "stream",
          "name": "stdout",
          "text": [
            "Reqcount -  2732\n",
            "Bencount -  7236\n"
          ]
        }
      ]
    },
    {
      "cell_type": "code",
      "source": [
        "tempdf.fillna(\"NA\",inplace=True)    # Fill NA where data is missing\n",
        "reqcount = 0\n",
        "bencount = 0\n",
        "for i in tempdf.isnull()['requirements']:\n",
        "  if i:\n",
        "    reqcount += 1\n",
        "for i in tempdf.isnull()['benefits']:\n",
        "  if i:\n",
        "    bencount += 1\n",
        "print(\"Reqcount - \", str(reqcount))\n",
        "print(\"Bencount - \", str(bencount))"
      ],
      "metadata": {
        "colab": {
          "base_uri": "https://localhost:8080/"
        },
        "id": "gB4GxQ7HMe2f",
        "outputId": "856034e9-817e-4eb8-ee6a-3edfb53a7a5d"
      },
      "execution_count": 78,
      "outputs": [
        {
          "output_type": "stream",
          "name": "stdout",
          "text": [
            "Reqcount -  0\n",
            "Bencount -  0\n"
          ]
        }
      ]
    },
    {
      "cell_type": "code",
      "source": [
        "len(tempdf['requirements'])"
      ],
      "metadata": {
        "colab": {
          "base_uri": "https://localhost:8080/"
        },
        "id": "Fyecv5toNUd-",
        "outputId": "23e65c8c-7e6e-4393-eb26-fe7b362942d7"
      },
      "execution_count": 79,
      "outputs": [
        {
          "output_type": "execute_result",
          "data": {
            "text/plain": [
              "17871"
            ]
          },
          "metadata": {},
          "execution_count": 79
        }
      ]
    },
    {
      "cell_type": "code",
      "source": [
        "tempdf.head()"
      ],
      "metadata": {
        "colab": {
          "base_uri": "https://localhost:8080/",
          "height": 206
        },
        "id": "PbqqijMvNsdf",
        "outputId": "770484f7-e8a4-4b5e-bdc8-74fb76373bc2"
      },
      "execution_count": 80,
      "outputs": [
        {
          "output_type": "execute_result",
          "data": {
            "text/plain": [
              "                                        requirements  \\\n",
              "0  Experience with content management systems a m...   \n",
              "1  What we expect from you:Your key responsibilit...   \n",
              "2  Implement pre-commissioning and commissioning ...   \n",
              "3  EDUCATION:Â Bachelorâ€™s or Masterâ€™s in GIS,...   \n",
              "4  QUALIFICATIONS:RN license in the State of Texa...   \n",
              "\n",
              "                                            benefits  \n",
              "0                                                 NA  \n",
              "1  What you will get from usThrough being part of...  \n",
              "2                                                 NA  \n",
              "3  Our culture is anything but corporateâ€”we hav...  \n",
              "4                              Full Benefits Offered  "
            ],
            "text/html": [
              "\n",
              "  <div id=\"df-64ea994a-d858-4671-b547-daec6d89a80d\">\n",
              "    <div class=\"colab-df-container\">\n",
              "      <div>\n",
              "<style scoped>\n",
              "    .dataframe tbody tr th:only-of-type {\n",
              "        vertical-align: middle;\n",
              "    }\n",
              "\n",
              "    .dataframe tbody tr th {\n",
              "        vertical-align: top;\n",
              "    }\n",
              "\n",
              "    .dataframe thead th {\n",
              "        text-align: right;\n",
              "    }\n",
              "</style>\n",
              "<table border=\"1\" class=\"dataframe\">\n",
              "  <thead>\n",
              "    <tr style=\"text-align: right;\">\n",
              "      <th></th>\n",
              "      <th>requirements</th>\n",
              "      <th>benefits</th>\n",
              "    </tr>\n",
              "  </thead>\n",
              "  <tbody>\n",
              "    <tr>\n",
              "      <th>0</th>\n",
              "      <td>Experience with content management systems a m...</td>\n",
              "      <td>NA</td>\n",
              "    </tr>\n",
              "    <tr>\n",
              "      <th>1</th>\n",
              "      <td>What we expect from you:Your key responsibilit...</td>\n",
              "      <td>What you will get from usThrough being part of...</td>\n",
              "    </tr>\n",
              "    <tr>\n",
              "      <th>2</th>\n",
              "      <td>Implement pre-commissioning and commissioning ...</td>\n",
              "      <td>NA</td>\n",
              "    </tr>\n",
              "    <tr>\n",
              "      <th>3</th>\n",
              "      <td>EDUCATION:Â Bachelorâ€™s or Masterâ€™s in GIS,...</td>\n",
              "      <td>Our culture is anything but corporateâ€”we hav...</td>\n",
              "    </tr>\n",
              "    <tr>\n",
              "      <th>4</th>\n",
              "      <td>QUALIFICATIONS:RN license in the State of Texa...</td>\n",
              "      <td>Full Benefits Offered</td>\n",
              "    </tr>\n",
              "  </tbody>\n",
              "</table>\n",
              "</div>\n",
              "      <button class=\"colab-df-convert\" onclick=\"convertToInteractive('df-64ea994a-d858-4671-b547-daec6d89a80d')\"\n",
              "              title=\"Convert this dataframe to an interactive table.\"\n",
              "              style=\"display:none;\">\n",
              "        \n",
              "  <svg xmlns=\"http://www.w3.org/2000/svg\" height=\"24px\"viewBox=\"0 0 24 24\"\n",
              "       width=\"24px\">\n",
              "    <path d=\"M0 0h24v24H0V0z\" fill=\"none\"/>\n",
              "    <path d=\"M18.56 5.44l.94 2.06.94-2.06 2.06-.94-2.06-.94-.94-2.06-.94 2.06-2.06.94zm-11 1L8.5 8.5l.94-2.06 2.06-.94-2.06-.94L8.5 2.5l-.94 2.06-2.06.94zm10 10l.94 2.06.94-2.06 2.06-.94-2.06-.94-.94-2.06-.94 2.06-2.06.94z\"/><path d=\"M17.41 7.96l-1.37-1.37c-.4-.4-.92-.59-1.43-.59-.52 0-1.04.2-1.43.59L10.3 9.45l-7.72 7.72c-.78.78-.78 2.05 0 2.83L4 21.41c.39.39.9.59 1.41.59.51 0 1.02-.2 1.41-.59l7.78-7.78 2.81-2.81c.8-.78.8-2.07 0-2.86zM5.41 20L4 18.59l7.72-7.72 1.47 1.35L5.41 20z\"/>\n",
              "  </svg>\n",
              "      </button>\n",
              "      \n",
              "  <style>\n",
              "    .colab-df-container {\n",
              "      display:flex;\n",
              "      flex-wrap:wrap;\n",
              "      gap: 12px;\n",
              "    }\n",
              "\n",
              "    .colab-df-convert {\n",
              "      background-color: #E8F0FE;\n",
              "      border: none;\n",
              "      border-radius: 50%;\n",
              "      cursor: pointer;\n",
              "      display: none;\n",
              "      fill: #1967D2;\n",
              "      height: 32px;\n",
              "      padding: 0 0 0 0;\n",
              "      width: 32px;\n",
              "    }\n",
              "\n",
              "    .colab-df-convert:hover {\n",
              "      background-color: #E2EBFA;\n",
              "      box-shadow: 0px 1px 2px rgba(60, 64, 67, 0.3), 0px 1px 3px 1px rgba(60, 64, 67, 0.15);\n",
              "      fill: #174EA6;\n",
              "    }\n",
              "\n",
              "    [theme=dark] .colab-df-convert {\n",
              "      background-color: #3B4455;\n",
              "      fill: #D2E3FC;\n",
              "    }\n",
              "\n",
              "    [theme=dark] .colab-df-convert:hover {\n",
              "      background-color: #434B5C;\n",
              "      box-shadow: 0px 1px 3px 1px rgba(0, 0, 0, 0.15);\n",
              "      filter: drop-shadow(0px 1px 2px rgba(0, 0, 0, 0.3));\n",
              "      fill: #FFFFFF;\n",
              "    }\n",
              "  </style>\n",
              "\n",
              "      <script>\n",
              "        const buttonEl =\n",
              "          document.querySelector('#df-64ea994a-d858-4671-b547-daec6d89a80d button.colab-df-convert');\n",
              "        buttonEl.style.display =\n",
              "          google.colab.kernel.accessAllowed ? 'block' : 'none';\n",
              "\n",
              "        async function convertToInteractive(key) {\n",
              "          const element = document.querySelector('#df-64ea994a-d858-4671-b547-daec6d89a80d');\n",
              "          const dataTable =\n",
              "            await google.colab.kernel.invokeFunction('convertToInteractive',\n",
              "                                                     [key], {});\n",
              "          if (!dataTable) return;\n",
              "\n",
              "          const docLinkHtml = 'Like what you see? Visit the ' +\n",
              "            '<a target=\"_blank\" href=https://colab.research.google.com/notebooks/data_table.ipynb>data table notebook</a>'\n",
              "            + ' to learn more about interactive tables.';\n",
              "          element.innerHTML = '';\n",
              "          dataTable['output_type'] = 'display_data';\n",
              "          await google.colab.output.renderOutput(dataTable, element);\n",
              "          const docLink = document.createElement('div');\n",
              "          docLink.innerHTML = docLinkHtml;\n",
              "          element.appendChild(docLink);\n",
              "        }\n",
              "      </script>\n",
              "    </div>\n",
              "  </div>\n",
              "  "
            ]
          },
          "metadata": {},
          "execution_count": 80
        }
      ]
    },
    {
      "cell_type": "code",
      "source": [
        "for i in range(len(tempdf['requirements'])):\n",
        "  try:\n",
        "    descdf['requirements'][i] = cleanCols(tempdf['requirements'][i])\n",
        "    descdf['benefits'][i] = cleanCols(tempdf['requirements'][i])\n",
        "  except Exception as e:\n",
        "    print(i)\n",
        "    print(e)"
      ],
      "metadata": {
        "colab": {
          "base_uri": "https://localhost:8080/"
        },
        "id": "pk-wwncSNEJJ",
        "outputId": "430a6567-3cf1-40bc-e3b1-0a1907fbcf09"
      },
      "execution_count": 81,
      "outputs": [
        {
          "output_type": "stream",
          "name": "stderr",
          "text": [
            "/usr/local/lib/python3.7/dist-packages/ipykernel_launcher.py:3: SettingWithCopyWarning: \n",
            "A value is trying to be set on a copy of a slice from a DataFrame\n",
            "\n",
            "See the caveats in the documentation: https://pandas.pydata.org/pandas-docs/stable/user_guide/indexing.html#returning-a-view-versus-a-copy\n",
            "  This is separate from the ipykernel package so we can avoid doing imports until\n",
            "/usr/local/lib/python3.7/dist-packages/ipykernel_launcher.py:4: SettingWithCopyWarning: \n",
            "A value is trying to be set on a copy of a slice from a DataFrame\n",
            "\n",
            "See the caveats in the documentation: https://pandas.pydata.org/pandas-docs/stable/user_guide/indexing.html#returning-a-view-versus-a-copy\n",
            "  after removing the cwd from sys.path.\n"
          ]
        },
        {
          "output_type": "stream",
          "name": "stdout",
          "text": [
            "3030\n",
            "3030\n",
            "3952\n",
            "3952\n",
            "4186\n",
            "4186\n",
            "7615\n",
            "7615\n",
            "11897\n",
            "11897\n",
            "12194\n",
            "12194\n",
            "13535\n",
            "13535\n",
            "16697\n",
            "16697\n",
            "17521\n",
            "17521\n"
          ]
        }
      ]
    },
    {
      "cell_type": "code",
      "source": [
        "print(descdf.head())"
      ],
      "metadata": {
        "colab": {
          "base_uri": "https://localhost:8080/"
        },
        "id": "jDYV-HJyNl9O",
        "outputId": "c7f2d5fe-b545-4193-ad28-4dee85e370d1"
      },
      "execution_count": 82,
      "outputs": [
        {
          "output_type": "stream",
          "name": "stdout",
          "text": [
            "                                     company_profile  \\\n",
            "0  food52 weve created groundbreaking awardwinnin...   \n",
            "1  90 seconds worlds cloud video production servi...   \n",
            "2  valor services provides workforce solutions me...   \n",
            "3  passion improving quality life geography heart...   \n",
            "4  spot source solutions llc global human capital...   \n",
            "\n",
            "                                         description  \\\n",
            "0  food52 fastgrowing james beard awardwinning on...   \n",
            "1  organised focused vibrant awesomedo passion cu...   \n",
            "2  client located houston actively seeking experi...   \n",
            "3  company esri environmental systems research in...   \n",
            "4  job title itemization review manager location ...   \n",
            "\n",
            "                                        requirements  \\\n",
            "0  experience content management systems major pl...   \n",
            "1  expect key responsibility communicate client 9...   \n",
            "2  implement precommissioning commissioning proce...   \n",
            "3  education bachelors masters gis business admin...   \n",
            "4  qualifications rn license state texas diploma ...   \n",
            "\n",
            "                                            benefits  fraudulent  \n",
            "0  experience content management systems major pl...           0  \n",
            "1  expect key responsibility communicate client 9...           0  \n",
            "2  implement precommissioning commissioning proce...           0  \n",
            "3  education bachelors masters gis business admin...           0  \n",
            "4  qualifications rn license state texas diploma ...           0  \n"
          ]
        }
      ]
    },
    {
      "cell_type": "code",
      "source": [
        "finaldf = descdf.copy()"
      ],
      "metadata": {
        "id": "PEMNg78jOkeH"
      },
      "execution_count": 84,
      "outputs": []
    },
    {
      "cell_type": "code",
      "source": [
        "print(finaldf.shape)"
      ],
      "metadata": {
        "colab": {
          "base_uri": "https://localhost:8080/"
        },
        "id": "Gb25IsFDUnRI",
        "outputId": "955191ee-311d-4587-a2b7-f3d4dde57e95"
      },
      "execution_count": 85,
      "outputs": [
        {
          "output_type": "stream",
          "name": "stdout",
          "text": [
            "(17871, 5)\n"
          ]
        }
      ]
    },
    {
      "cell_type": "code",
      "source": [
        "finaldf.reset_index(inplace=True)"
      ],
      "metadata": {
        "id": "n8G6TcifUo4G"
      },
      "execution_count": 86,
      "outputs": []
    },
    {
      "cell_type": "code",
      "source": [
        "finaldf.shape"
      ],
      "metadata": {
        "colab": {
          "base_uri": "https://localhost:8080/"
        },
        "id": "6KKhZc3EU3tU",
        "outputId": "bcb66c64-3987-448f-81e7-bb92c3f7d9ea"
      },
      "execution_count": 87,
      "outputs": [
        {
          "output_type": "execute_result",
          "data": {
            "text/plain": [
              "(17871, 6)"
            ]
          },
          "metadata": {},
          "execution_count": 87
        }
      ]
    },
    {
      "cell_type": "code",
      "source": [
        "finaldf.drop(\"index\",axis=1,inplace=True)"
      ],
      "metadata": {
        "id": "V4hkLP9jVIU5"
      },
      "execution_count": 88,
      "outputs": []
    },
    {
      "cell_type": "code",
      "source": [
        "# Storing the cleaned df into a pickle file for easy sharing\n",
        "finaldf.to_pickle(\"cleaned df.pkl\")"
      ],
      "metadata": {
        "id": "QDmCpnB7VZcE"
      },
      "execution_count": 92,
      "outputs": []
    },
    {
      "cell_type": "code",
      "source": [
        "finaldf"
      ],
      "metadata": {
        "colab": {
          "base_uri": "https://localhost:8080/",
          "height": 641
        },
        "id": "L8qoaCAPVgV3",
        "outputId": "e80e9108-3061-49f3-a4ea-074023d0467a"
      },
      "execution_count": 90,
      "outputs": [
        {
          "output_type": "execute_result",
          "data": {
            "text/plain": [
              "                                         company_profile  \\\n",
              "0      food52 weve created groundbreaking awardwinnin...   \n",
              "1      90 seconds worlds cloud video production servi...   \n",
              "2      valor services provides workforce solutions me...   \n",
              "3      passion improving quality life geography heart...   \n",
              "4      spot source solutions llc global human capital...   \n",
              "...                                                  ...   \n",
              "17866  Vend is looking for some awesome new talent to...   \n",
              "17867  WebLinc is the e-commerce platform and service...   \n",
              "17868  We Provide Full Time Permanent Positions for m...   \n",
              "17869                                                NaN   \n",
              "17870  Vend is looking for some awesome new talent to...   \n",
              "\n",
              "                                             description  \\\n",
              "0      food52 fastgrowing james beard awardwinning on...   \n",
              "1      organised focused vibrant awesomedo passion cu...   \n",
              "2      client located houston actively seeking experi...   \n",
              "3      company esri environmental systems research in...   \n",
              "4      job title itemization review manager location ...   \n",
              "...                                                  ...   \n",
              "17866  case first time youve visited website vend awa...   \n",
              "17867  payroll accountant focus primarily payroll fun...   \n",
              "17868  experienced project cost control staff enginee...   \n",
              "17869  nemsia studios looking experienced visualgraph...   \n",
              "17870  wevend award winning web based point sale soft...   \n",
              "\n",
              "                                            requirements  \\\n",
              "0      experience content management systems major pl...   \n",
              "1      expect key responsibility communicate client 9...   \n",
              "2      implement precommissioning commissioning proce...   \n",
              "3      education bachelors masters gis business admin...   \n",
              "4      qualifications rn license state texas diploma ...   \n",
              "...                                                  ...   \n",
              "17866  To ace this role you:Will eat comprehensive St...   \n",
              "17867  - B.A. or B.S. in Accounting-Â Desire to have ...   \n",
              "17868  At least 12 years professional experience.Abil...   \n",
              "17869  1. Must be fluent in the latest versions of Co...   \n",
              "17870  We want to hear from you if:You have an in-dep...   \n",
              "\n",
              "                                                benefits  fraudulent  \n",
              "0      experience content management systems major pl...           0  \n",
              "1      expect key responsibility communicate client 9...           0  \n",
              "2      implement precommissioning commissioning proce...           0  \n",
              "3      education bachelors masters gis business admin...           0  \n",
              "4      qualifications rn license state texas diploma ...           0  \n",
              "...                                                  ...         ...  \n",
              "17866  What can you expect from us?We have an open cu...           0  \n",
              "17867  Health &amp; WellnessMedical planPrescription ...           0  \n",
              "17868                                                NaN           0  \n",
              "17869  Competitive salary (compensation will be based...           0  \n",
              "17870                                                NaN           0  \n",
              "\n",
              "[17871 rows x 5 columns]"
            ],
            "text/html": [
              "\n",
              "  <div id=\"df-a8d631c4-bf91-469b-ae51-8abad35b33d1\">\n",
              "    <div class=\"colab-df-container\">\n",
              "      <div>\n",
              "<style scoped>\n",
              "    .dataframe tbody tr th:only-of-type {\n",
              "        vertical-align: middle;\n",
              "    }\n",
              "\n",
              "    .dataframe tbody tr th {\n",
              "        vertical-align: top;\n",
              "    }\n",
              "\n",
              "    .dataframe thead th {\n",
              "        text-align: right;\n",
              "    }\n",
              "</style>\n",
              "<table border=\"1\" class=\"dataframe\">\n",
              "  <thead>\n",
              "    <tr style=\"text-align: right;\">\n",
              "      <th></th>\n",
              "      <th>company_profile</th>\n",
              "      <th>description</th>\n",
              "      <th>requirements</th>\n",
              "      <th>benefits</th>\n",
              "      <th>fraudulent</th>\n",
              "    </tr>\n",
              "  </thead>\n",
              "  <tbody>\n",
              "    <tr>\n",
              "      <th>0</th>\n",
              "      <td>food52 weve created groundbreaking awardwinnin...</td>\n",
              "      <td>food52 fastgrowing james beard awardwinning on...</td>\n",
              "      <td>experience content management systems major pl...</td>\n",
              "      <td>experience content management systems major pl...</td>\n",
              "      <td>0</td>\n",
              "    </tr>\n",
              "    <tr>\n",
              "      <th>1</th>\n",
              "      <td>90 seconds worlds cloud video production servi...</td>\n",
              "      <td>organised focused vibrant awesomedo passion cu...</td>\n",
              "      <td>expect key responsibility communicate client 9...</td>\n",
              "      <td>expect key responsibility communicate client 9...</td>\n",
              "      <td>0</td>\n",
              "    </tr>\n",
              "    <tr>\n",
              "      <th>2</th>\n",
              "      <td>valor services provides workforce solutions me...</td>\n",
              "      <td>client located houston actively seeking experi...</td>\n",
              "      <td>implement precommissioning commissioning proce...</td>\n",
              "      <td>implement precommissioning commissioning proce...</td>\n",
              "      <td>0</td>\n",
              "    </tr>\n",
              "    <tr>\n",
              "      <th>3</th>\n",
              "      <td>passion improving quality life geography heart...</td>\n",
              "      <td>company esri environmental systems research in...</td>\n",
              "      <td>education bachelors masters gis business admin...</td>\n",
              "      <td>education bachelors masters gis business admin...</td>\n",
              "      <td>0</td>\n",
              "    </tr>\n",
              "    <tr>\n",
              "      <th>4</th>\n",
              "      <td>spot source solutions llc global human capital...</td>\n",
              "      <td>job title itemization review manager location ...</td>\n",
              "      <td>qualifications rn license state texas diploma ...</td>\n",
              "      <td>qualifications rn license state texas diploma ...</td>\n",
              "      <td>0</td>\n",
              "    </tr>\n",
              "    <tr>\n",
              "      <th>...</th>\n",
              "      <td>...</td>\n",
              "      <td>...</td>\n",
              "      <td>...</td>\n",
              "      <td>...</td>\n",
              "      <td>...</td>\n",
              "    </tr>\n",
              "    <tr>\n",
              "      <th>17866</th>\n",
              "      <td>Vend is looking for some awesome new talent to...</td>\n",
              "      <td>case first time youve visited website vend awa...</td>\n",
              "      <td>To ace this role you:Will eat comprehensive St...</td>\n",
              "      <td>What can you expect from us?We have an open cu...</td>\n",
              "      <td>0</td>\n",
              "    </tr>\n",
              "    <tr>\n",
              "      <th>17867</th>\n",
              "      <td>WebLinc is the e-commerce platform and service...</td>\n",
              "      <td>payroll accountant focus primarily payroll fun...</td>\n",
              "      <td>- B.A. or B.S. in Accounting-Â Desire to have ...</td>\n",
              "      <td>Health &amp;amp; WellnessMedical planPrescription ...</td>\n",
              "      <td>0</td>\n",
              "    </tr>\n",
              "    <tr>\n",
              "      <th>17868</th>\n",
              "      <td>We Provide Full Time Permanent Positions for m...</td>\n",
              "      <td>experienced project cost control staff enginee...</td>\n",
              "      <td>At least 12 years professional experience.Abil...</td>\n",
              "      <td>NaN</td>\n",
              "      <td>0</td>\n",
              "    </tr>\n",
              "    <tr>\n",
              "      <th>17869</th>\n",
              "      <td>NaN</td>\n",
              "      <td>nemsia studios looking experienced visualgraph...</td>\n",
              "      <td>1. Must be fluent in the latest versions of Co...</td>\n",
              "      <td>Competitive salary (compensation will be based...</td>\n",
              "      <td>0</td>\n",
              "    </tr>\n",
              "    <tr>\n",
              "      <th>17870</th>\n",
              "      <td>Vend is looking for some awesome new talent to...</td>\n",
              "      <td>wevend award winning web based point sale soft...</td>\n",
              "      <td>We want to hear from you if:You have an in-dep...</td>\n",
              "      <td>NaN</td>\n",
              "      <td>0</td>\n",
              "    </tr>\n",
              "  </tbody>\n",
              "</table>\n",
              "<p>17871 rows × 5 columns</p>\n",
              "</div>\n",
              "      <button class=\"colab-df-convert\" onclick=\"convertToInteractive('df-a8d631c4-bf91-469b-ae51-8abad35b33d1')\"\n",
              "              title=\"Convert this dataframe to an interactive table.\"\n",
              "              style=\"display:none;\">\n",
              "        \n",
              "  <svg xmlns=\"http://www.w3.org/2000/svg\" height=\"24px\"viewBox=\"0 0 24 24\"\n",
              "       width=\"24px\">\n",
              "    <path d=\"M0 0h24v24H0V0z\" fill=\"none\"/>\n",
              "    <path d=\"M18.56 5.44l.94 2.06.94-2.06 2.06-.94-2.06-.94-.94-2.06-.94 2.06-2.06.94zm-11 1L8.5 8.5l.94-2.06 2.06-.94-2.06-.94L8.5 2.5l-.94 2.06-2.06.94zm10 10l.94 2.06.94-2.06 2.06-.94-2.06-.94-.94-2.06-.94 2.06-2.06.94z\"/><path d=\"M17.41 7.96l-1.37-1.37c-.4-.4-.92-.59-1.43-.59-.52 0-1.04.2-1.43.59L10.3 9.45l-7.72 7.72c-.78.78-.78 2.05 0 2.83L4 21.41c.39.39.9.59 1.41.59.51 0 1.02-.2 1.41-.59l7.78-7.78 2.81-2.81c.8-.78.8-2.07 0-2.86zM5.41 20L4 18.59l7.72-7.72 1.47 1.35L5.41 20z\"/>\n",
              "  </svg>\n",
              "      </button>\n",
              "      \n",
              "  <style>\n",
              "    .colab-df-container {\n",
              "      display:flex;\n",
              "      flex-wrap:wrap;\n",
              "      gap: 12px;\n",
              "    }\n",
              "\n",
              "    .colab-df-convert {\n",
              "      background-color: #E8F0FE;\n",
              "      border: none;\n",
              "      border-radius: 50%;\n",
              "      cursor: pointer;\n",
              "      display: none;\n",
              "      fill: #1967D2;\n",
              "      height: 32px;\n",
              "      padding: 0 0 0 0;\n",
              "      width: 32px;\n",
              "    }\n",
              "\n",
              "    .colab-df-convert:hover {\n",
              "      background-color: #E2EBFA;\n",
              "      box-shadow: 0px 1px 2px rgba(60, 64, 67, 0.3), 0px 1px 3px 1px rgba(60, 64, 67, 0.15);\n",
              "      fill: #174EA6;\n",
              "    }\n",
              "\n",
              "    [theme=dark] .colab-df-convert {\n",
              "      background-color: #3B4455;\n",
              "      fill: #D2E3FC;\n",
              "    }\n",
              "\n",
              "    [theme=dark] .colab-df-convert:hover {\n",
              "      background-color: #434B5C;\n",
              "      box-shadow: 0px 1px 3px 1px rgba(0, 0, 0, 0.15);\n",
              "      filter: drop-shadow(0px 1px 2px rgba(0, 0, 0, 0.3));\n",
              "      fill: #FFFFFF;\n",
              "    }\n",
              "  </style>\n",
              "\n",
              "      <script>\n",
              "        const buttonEl =\n",
              "          document.querySelector('#df-a8d631c4-bf91-469b-ae51-8abad35b33d1 button.colab-df-convert');\n",
              "        buttonEl.style.display =\n",
              "          google.colab.kernel.accessAllowed ? 'block' : 'none';\n",
              "\n",
              "        async function convertToInteractive(key) {\n",
              "          const element = document.querySelector('#df-a8d631c4-bf91-469b-ae51-8abad35b33d1');\n",
              "          const dataTable =\n",
              "            await google.colab.kernel.invokeFunction('convertToInteractive',\n",
              "                                                     [key], {});\n",
              "          if (!dataTable) return;\n",
              "\n",
              "          const docLinkHtml = 'Like what you see? Visit the ' +\n",
              "            '<a target=\"_blank\" href=https://colab.research.google.com/notebooks/data_table.ipynb>data table notebook</a>'\n",
              "            + ' to learn more about interactive tables.';\n",
              "          element.innerHTML = '';\n",
              "          dataTable['output_type'] = 'display_data';\n",
              "          await google.colab.output.renderOutput(dataTable, element);\n",
              "          const docLink = document.createElement('div');\n",
              "          docLink.innerHTML = docLinkHtml;\n",
              "          element.appendChild(docLink);\n",
              "        }\n",
              "      </script>\n",
              "    </div>\n",
              "  </div>\n",
              "  "
            ]
          },
          "metadata": {},
          "execution_count": 90
        }
      ]
    }
  ]
}